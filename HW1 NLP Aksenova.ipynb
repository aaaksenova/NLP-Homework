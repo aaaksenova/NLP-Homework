{
 "cells": [
  {
   "cell_type": "markdown",
   "metadata": {},
   "source": [
    "#  HW1 NLP Anna Aksenova"
   ]
  },
  {
   "cell_type": "markdown",
   "metadata": {},
   "source": [
    "В этом ноутбуке мы будем проводить анализ тональности на текстах из отзывов на IMDB о Гарри Поттере."
   ]
  },
  {
   "cell_type": "code",
   "execution_count": 155,
   "metadata": {},
   "outputs": [],
   "source": [
    "import re\n",
    "from pprint import pprint\n",
    "import time\n",
    "import requests\n",
    "from tqdm.auto import tqdm\n",
    "\n",
    "from bs4 import BeautifulSoup\n",
    "\n",
    "from selenium import webdriver\n",
    "from selenium.webdriver.common.by import By\n",
    "from selenium.webdriver.support.ui import WebDriverWait\n",
    "from selenium.webdriver.support import expected_conditions as ec"
   ]
  },
  {
   "cell_type": "markdown",
   "metadata": {},
   "source": [
    "Берем ссылку на IMDB"
   ]
  },
  {
   "cell_type": "code",
   "execution_count": 2,
   "metadata": {},
   "outputs": [],
   "source": [
    "link = 'https://www.imdb.com/title/tt0241527/reviews?spoiler=hide&sort=helpfulnessScore&dir=desc&ratingFilter=0 '"
   ]
  },
  {
   "cell_type": "code",
   "execution_count": 3,
   "metadata": {},
   "outputs": [],
   "source": [
    "result = requests.get(link)\n",
    "html = result.text"
   ]
  },
  {
   "cell_type": "code",
   "execution_count": 158,
   "metadata": {},
   "outputs": [],
   "source": [
    "# эта функция открывает IMDB и кликает на кнопку, открывающую продолжение комментариев\n",
    "def get_comments(url_add, maxclicks):\n",
    "    \n",
    "    progress_bar = tqdm(total = maxclicks)\n",
    "\n",
    "    source_code = requests.get(url_add)\n",
    "    plain_text = source_code.text\n",
    "    soup = BeautifulSoup(plain_text, 'html.parser')\n",
    "\n",
    "\n",
    "    driver = webdriver.Chrome('/Users/annaaksenova/Desktop/chromedriver')\n",
    "    wait = WebDriverWait(driver, 100)\n",
    "\n",
    "    driver.get(url_add)\n",
    "    \n",
    "    clicks = 0\n",
    "    while True:\n",
    "        clicks += 1\n",
    "        if clicks <= maxclicks:\n",
    "            more_button = wait.until(ec.visibility_of_element_located((By.CLASS_NAME, \"ipl-load-more__button\"))).click()\n",
    "\n",
    "\n",
    "        else:\n",
    "            break\n",
    "        progress_bar.update(1)\n",
    "        \n",
    "    time.sleep(25)\n",
    "    source_code = driver.page_source\n",
    "\n",
    "    plain_text = source_code\n",
    "    soup = BeautifulSoup(plain_text, 'html.parser')\n",
    "\n",
    "    database = []\n",
    "    pageno = 1\n",
    "    rating_list = []\n",
    "    review_list = []\n",
    "\n",
    "    for r in soup.find_all('div', {'class': 'lister-item-content'}):\n",
    "\n",
    "        if \"ipl-ratings-bar\" in str(r):\n",
    "\n",
    "            for rating in r.find_all('span', {'class': 'rating-other-user-rating'}):\n",
    "                rating = str(rating.text).strip()\n",
    "                if rating == '':\n",
    "                    rating = 'NaN'\n",
    "                rating_list.append(rating)\n",
    "\n",
    "        for review in r.find_all('div', {'class': 'text'}):\n",
    "            review = str(review.text)\n",
    "            if review == '':\n",
    "                review = 'NaN'\n",
    "                review_list.append(review)\n",
    "            else:\n",
    "                review_list.append(review)\n",
    "        progress_bar.close()\n",
    "    return rating_list, review_list"
   ]
  },
  {
   "cell_type": "code",
   "execution_count": 159,
   "metadata": {
    "scrolled": false
   },
   "outputs": [
    {
     "data": {
      "application/vnd.jupyter.widget-view+json": {
       "model_id": "5088127a7dda4da78af4a6a2133e2b22",
       "version_major": 2,
       "version_minor": 0
      },
      "text/plain": [
       "HBox(children=(IntProgress(value=0, max=30), HTML(value='')))"
      ]
     },
     "metadata": {},
     "output_type": "display_data"
    },
    {
     "name": "stdout",
     "output_type": "stream",
     "text": [
      "\n"
     ]
    }
   ],
   "source": [
    "rating_list, review_list = get_comments(link, 30)"
   ]
  },
  {
   "cell_type": "markdown",
   "metadata": {},
   "source": [
    "Выберем комментарии, в которых проставлены оценки"
   ]
  },
  {
   "cell_type": "code",
   "execution_count": 81,
   "metadata": {},
   "outputs": [],
   "source": [
    "com_rate = [(int(com[0].split('/')[0]), com[1]) for com in zip(rating_list, review_list) if not com[0].isalpha()]"
   ]
  },
  {
   "cell_type": "markdown",
   "metadata": {},
   "source": [
    "Будем считать все оценки от 8 и выше положительными"
   ]
  },
  {
   "cell_type": "code",
   "execution_count": 82,
   "metadata": {},
   "outputs": [],
   "source": [
    "positive = [com for com in com_rate if com[0]>=8]"
   ]
  },
  {
   "cell_type": "markdown",
   "metadata": {},
   "source": [
    "Все оценки от 3 и ниже будем считать отрицательными"
   ]
  },
  {
   "cell_type": "code",
   "execution_count": 85,
   "metadata": {},
   "outputs": [],
   "source": [
    "negative = [com for com in com_rate if com[0]<=3]"
   ]
  },
  {
   "cell_type": "markdown",
   "metadata": {},
   "source": [
    "Посмотрим, сколько у нас вообще отзывов каждого типа"
   ]
  },
  {
   "cell_type": "code",
   "execution_count": 86,
   "metadata": {},
   "outputs": [
    {
     "data": {
      "text/plain": [
       "416"
      ]
     },
     "execution_count": 86,
     "metadata": {},
     "output_type": "execute_result"
    }
   ],
   "source": [
    "len(positive)"
   ]
  },
  {
   "cell_type": "code",
   "execution_count": 87,
   "metadata": {},
   "outputs": [
    {
     "data": {
      "text/plain": [
       "55"
      ]
     },
     "execution_count": 87,
     "metadata": {},
     "output_type": "execute_result"
    }
   ],
   "source": [
    "len(negative)"
   ]
  },
  {
   "cell_type": "markdown",
   "metadata": {},
   "source": [
    "Сбалансируем выборку"
   ]
  },
  {
   "cell_type": "code",
   "execution_count": 88,
   "metadata": {},
   "outputs": [],
   "source": [
    "positive_val = [(1, i) for i in positive[len(negative) - 10:len(negative)]]\n",
    "negative_val = [(0, i) for i in negative[len(negative) - 10:]]"
   ]
  },
  {
   "cell_type": "markdown",
   "metadata": {},
   "source": [
    "## Обработка текста"
   ]
  },
  {
   "cell_type": "code",
   "execution_count": 90,
   "metadata": {},
   "outputs": [],
   "source": [
    "from collections import Counter \n",
    "\n",
    "import nltk\n",
    "from nltk.stem import WordNetLemmatizer"
   ]
  },
  {
   "cell_type": "code",
   "execution_count": 91,
   "metadata": {},
   "outputs": [],
   "source": [
    "lemmatizer = WordNetLemmatizer()"
   ]
  },
  {
   "cell_type": "code",
   "execution_count": 144,
   "metadata": {},
   "outputs": [],
   "source": [
    "# эта функция собирает частотный словарь в 200 слов по дефолту\n",
    "def collect_freqlist(reviews, max_len=200):\n",
    "    \n",
    "    freqlist = Counter()\n",
    "    for text in reviews:\n",
    "        for word in nltk.word_tokenize(text[1].lower()):\n",
    "            if word.isalpha():\n",
    "                word = lemmatizer.lemmatize(word)\n",
    "                freqlist[word] += 1\n",
    "    return dict(freqlist.most_common(max_len))"
   ]
  },
  {
   "cell_type": "code",
   "execution_count": 145,
   "metadata": {},
   "outputs": [],
   "source": [
    "positive_list = collect_freqlist(positive[:len(negative) - 10])\n",
    "negative_list = collect_freqlist(negative[:len(negative) - 10])"
   ]
  },
  {
   "cell_type": "markdown",
   "metadata": {},
   "source": [
    "Создадим множества слов из \"положительного\" и \"отрицательного\" словарей и пересечем их"
   ]
  },
  {
   "cell_type": "code",
   "execution_count": 147,
   "metadata": {},
   "outputs": [],
   "source": [
    "positive_list = set(positive_list.keys())\n",
    "negative_list = set(negative_list.keys())\n",
    "common = positive_list.intersection(negative_list)"
   ]
  },
  {
   "cell_type": "code",
   "execution_count": 148,
   "metadata": {},
   "outputs": [],
   "source": [
    "positive_list.symmetric_difference_update(common)\n",
    "negative_list.symmetric_difference_update(common)"
   ]
  },
  {
   "cell_type": "markdown",
   "metadata": {},
   "source": [
    "## Определение типа отзыва по словам"
   ]
  },
  {
   "cell_type": "code",
   "execution_count": 150,
   "metadata": {},
   "outputs": [],
   "source": [
    "def rate_detect(text):\n",
    "    \n",
    "    words = [lemmatizer.lemmatize(word) for word in nltk.word_tokenize(text[1][1].lower())]\n",
    "    words = set(words)\n",
    "    pos = len(words.intersection(positive_list))\n",
    "    neg = len(words.intersection(negative_list))\n",
    "    if pos > neg:\n",
    "        check = 1\n",
    "    else:\n",
    "        check = 0\n",
    "    return check"
   ]
  },
  {
   "cell_type": "code",
   "execution_count": 151,
   "metadata": {},
   "outputs": [],
   "source": [
    "answers = []\n",
    "for text in positive_val + negative_val:\n",
    "    answers.append(rate_detect(text))"
   ]
  },
  {
   "cell_type": "code",
   "execution_count": 152,
   "metadata": {},
   "outputs": [],
   "source": [
    "from sklearn.metrics import accuracy_score"
   ]
  },
  {
   "cell_type": "code",
   "execution_count": 153,
   "metadata": {},
   "outputs": [
    {
     "name": "stdout",
     "output_type": "stream",
     "text": [
      "Доля верных ответов: 0.6\n"
     ]
    }
   ],
   "source": [
    "print(\"Доля верных ответов:\", accuracy_score(answers, [1 if i < 10 else 0 for i in range(20)]))"
   ]
  },
  {
   "cell_type": "markdown",
   "metadata": {},
   "source": [
    "## Идеи улучшения"
   ]
  },
  {
   "cell_type": "markdown",
   "metadata": {},
   "source": [
    "1. НОРМАЛЬНЫЙ лемматизатор, а не nltk, который распознает форму глагола прошедшего времени как существительное\n",
    "\n",
    "2. Увеличить объем корпуса, слишком мало примеров негативных отзывов\n",
    "\n",
    "3. Использовать другие признаки: смайлики, длину отзыва, упоминание книги (книголюбы склонны более негативно оценивать экранизацию)"
   ]
  }
 ],
 "metadata": {
  "kernelspec": {
   "display_name": "Python 3",
   "language": "python",
   "name": "python3"
  },
  "language_info": {
   "codemirror_mode": {
    "name": "ipython",
    "version": 3
   },
   "file_extension": ".py",
   "mimetype": "text/x-python",
   "name": "python",
   "nbconvert_exporter": "python",
   "pygments_lexer": "ipython3",
   "version": "3.6.8"
  }
 },
 "nbformat": 4,
 "nbformat_minor": 2
}
