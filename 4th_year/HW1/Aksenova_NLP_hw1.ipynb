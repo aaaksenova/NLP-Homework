{
  "nbformat": 4,
  "nbformat_minor": 0,
  "metadata": {
    "colab": {
      "name": "Aksenova_NLP_hw1.ipynb",
      "provenance": [],
      "collapsed_sections": [],
      "authorship_tag": "ABX9TyP7trpT10WBznjp+b2bbFM8",
      "include_colab_link": true
    },
    "kernelspec": {
      "display_name": "Python 3",
      "name": "python3"
    },
    "language_info": {
      "name": "python"
    },
    "widgets": {
      "application/vnd.jupyter.widget-state+json": {
        "d637a6b78eba4d38a1a9ab475237a57d": {
          "model_module": "@jupyter-widgets/controls",
          "model_name": "HBoxModel",
          "model_module_version": "1.5.0",
          "state": {
            "_view_name": "HBoxView",
            "_dom_classes": [],
            "_model_name": "HBoxModel",
            "_view_module": "@jupyter-widgets/controls",
            "_model_module_version": "1.5.0",
            "_view_count": null,
            "_view_module_version": "1.5.0",
            "box_style": "",
            "layout": "IPY_MODEL_77deeaa174d3431f837293ef9b91f306",
            "_model_module": "@jupyter-widgets/controls",
            "children": [
              "IPY_MODEL_59a66834d514451797e13e9e1a7613c7",
              "IPY_MODEL_3d1c32b370dc4d4abfd1766ef2ea0f26",
              "IPY_MODEL_b1cc387523204c93a9bd6db278b89ee0"
            ]
          }
        },
        "77deeaa174d3431f837293ef9b91f306": {
          "model_module": "@jupyter-widgets/base",
          "model_name": "LayoutModel",
          "model_module_version": "1.2.0",
          "state": {
            "_view_name": "LayoutView",
            "grid_template_rows": null,
            "right": null,
            "justify_content": null,
            "_view_module": "@jupyter-widgets/base",
            "overflow": null,
            "_model_module_version": "1.2.0",
            "_view_count": null,
            "flex_flow": null,
            "width": null,
            "min_width": null,
            "border": null,
            "align_items": null,
            "bottom": null,
            "_model_module": "@jupyter-widgets/base",
            "top": null,
            "grid_column": null,
            "overflow_y": null,
            "overflow_x": null,
            "grid_auto_flow": null,
            "grid_area": null,
            "grid_template_columns": null,
            "flex": null,
            "_model_name": "LayoutModel",
            "justify_items": null,
            "grid_row": null,
            "max_height": null,
            "align_content": null,
            "visibility": null,
            "align_self": null,
            "height": null,
            "min_height": null,
            "padding": null,
            "grid_auto_rows": null,
            "grid_gap": null,
            "max_width": null,
            "order": null,
            "_view_module_version": "1.2.0",
            "grid_template_areas": null,
            "object_position": null,
            "object_fit": null,
            "grid_auto_columns": null,
            "margin": null,
            "display": null,
            "left": null
          }
        },
        "59a66834d514451797e13e9e1a7613c7": {
          "model_module": "@jupyter-widgets/controls",
          "model_name": "HTMLModel",
          "model_module_version": "1.5.0",
          "state": {
            "_view_name": "HTMLView",
            "style": "IPY_MODEL_e76a7f1ded444f91b2622ea6d685ed50",
            "_dom_classes": [],
            "description": "",
            "_model_name": "HTMLModel",
            "placeholder": "​",
            "_view_module": "@jupyter-widgets/controls",
            "_model_module_version": "1.5.0",
            "value": "",
            "_view_count": null,
            "_view_module_version": "1.5.0",
            "description_tooltip": null,
            "_model_module": "@jupyter-widgets/controls",
            "layout": "IPY_MODEL_d7d4fb711b034bb9bbbd0a71a76fa6bf"
          }
        },
        "3d1c32b370dc4d4abfd1766ef2ea0f26": {
          "model_module": "@jupyter-widgets/controls",
          "model_name": "FloatProgressModel",
          "model_module_version": "1.5.0",
          "state": {
            "_view_name": "ProgressView",
            "style": "IPY_MODEL_eb87763944d641559f2bb4b54ca169d2",
            "_dom_classes": [],
            "description": "",
            "_model_name": "FloatProgressModel",
            "bar_style": "success",
            "max": 1,
            "_view_module": "@jupyter-widgets/controls",
            "_model_module_version": "1.5.0",
            "value": 0,
            "_view_count": null,
            "_view_module_version": "1.5.0",
            "orientation": "horizontal",
            "min": 0,
            "description_tooltip": null,
            "_model_module": "@jupyter-widgets/controls",
            "layout": "IPY_MODEL_96a8cc0854d446c9a10c56a86b4fbd82"
          }
        },
        "b1cc387523204c93a9bd6db278b89ee0": {
          "model_module": "@jupyter-widgets/controls",
          "model_name": "HTMLModel",
          "model_module_version": "1.5.0",
          "state": {
            "_view_name": "HTMLView",
            "style": "IPY_MODEL_8b3a053e108445ebb1c8478f9e87d519",
            "_dom_classes": [],
            "description": "",
            "_model_name": "HTMLModel",
            "placeholder": "​",
            "_view_module": "@jupyter-widgets/controls",
            "_model_module_version": "1.5.0",
            "value": " 0/? [00:00&lt;?, ?it/s]",
            "_view_count": null,
            "_view_module_version": "1.5.0",
            "description_tooltip": null,
            "_model_module": "@jupyter-widgets/controls",
            "layout": "IPY_MODEL_fef045e23e8d42ae89979f5353c75f3f"
          }
        },
        "e76a7f1ded444f91b2622ea6d685ed50": {
          "model_module": "@jupyter-widgets/controls",
          "model_name": "DescriptionStyleModel",
          "model_module_version": "1.5.0",
          "state": {
            "_view_name": "StyleView",
            "_model_name": "DescriptionStyleModel",
            "description_width": "",
            "_view_module": "@jupyter-widgets/base",
            "_model_module_version": "1.5.0",
            "_view_count": null,
            "_view_module_version": "1.2.0",
            "_model_module": "@jupyter-widgets/controls"
          }
        },
        "d7d4fb711b034bb9bbbd0a71a76fa6bf": {
          "model_module": "@jupyter-widgets/base",
          "model_name": "LayoutModel",
          "model_module_version": "1.2.0",
          "state": {
            "_view_name": "LayoutView",
            "grid_template_rows": null,
            "right": null,
            "justify_content": null,
            "_view_module": "@jupyter-widgets/base",
            "overflow": null,
            "_model_module_version": "1.2.0",
            "_view_count": null,
            "flex_flow": null,
            "width": null,
            "min_width": null,
            "border": null,
            "align_items": null,
            "bottom": null,
            "_model_module": "@jupyter-widgets/base",
            "top": null,
            "grid_column": null,
            "overflow_y": null,
            "overflow_x": null,
            "grid_auto_flow": null,
            "grid_area": null,
            "grid_template_columns": null,
            "flex": null,
            "_model_name": "LayoutModel",
            "justify_items": null,
            "grid_row": null,
            "max_height": null,
            "align_content": null,
            "visibility": null,
            "align_self": null,
            "height": null,
            "min_height": null,
            "padding": null,
            "grid_auto_rows": null,
            "grid_gap": null,
            "max_width": null,
            "order": null,
            "_view_module_version": "1.2.0",
            "grid_template_areas": null,
            "object_position": null,
            "object_fit": null,
            "grid_auto_columns": null,
            "margin": null,
            "display": null,
            "left": null
          }
        },
        "eb87763944d641559f2bb4b54ca169d2": {
          "model_module": "@jupyter-widgets/controls",
          "model_name": "ProgressStyleModel",
          "model_module_version": "1.5.0",
          "state": {
            "_view_name": "StyleView",
            "_model_name": "ProgressStyleModel",
            "description_width": "",
            "_view_module": "@jupyter-widgets/base",
            "_model_module_version": "1.5.0",
            "_view_count": null,
            "_view_module_version": "1.2.0",
            "bar_color": null,
            "_model_module": "@jupyter-widgets/controls"
          }
        },
        "96a8cc0854d446c9a10c56a86b4fbd82": {
          "model_module": "@jupyter-widgets/base",
          "model_name": "LayoutModel",
          "model_module_version": "1.2.0",
          "state": {
            "_view_name": "LayoutView",
            "grid_template_rows": null,
            "right": null,
            "justify_content": null,
            "_view_module": "@jupyter-widgets/base",
            "overflow": null,
            "_model_module_version": "1.2.0",
            "_view_count": null,
            "flex_flow": null,
            "width": "20px",
            "min_width": null,
            "border": null,
            "align_items": null,
            "bottom": null,
            "_model_module": "@jupyter-widgets/base",
            "top": null,
            "grid_column": null,
            "overflow_y": null,
            "overflow_x": null,
            "grid_auto_flow": null,
            "grid_area": null,
            "grid_template_columns": null,
            "flex": null,
            "_model_name": "LayoutModel",
            "justify_items": null,
            "grid_row": null,
            "max_height": null,
            "align_content": null,
            "visibility": null,
            "align_self": null,
            "height": null,
            "min_height": null,
            "padding": null,
            "grid_auto_rows": null,
            "grid_gap": null,
            "max_width": null,
            "order": null,
            "_view_module_version": "1.2.0",
            "grid_template_areas": null,
            "object_position": null,
            "object_fit": null,
            "grid_auto_columns": null,
            "margin": null,
            "display": null,
            "left": null
          }
        },
        "8b3a053e108445ebb1c8478f9e87d519": {
          "model_module": "@jupyter-widgets/controls",
          "model_name": "DescriptionStyleModel",
          "model_module_version": "1.5.0",
          "state": {
            "_view_name": "StyleView",
            "_model_name": "DescriptionStyleModel",
            "description_width": "",
            "_view_module": "@jupyter-widgets/base",
            "_model_module_version": "1.5.0",
            "_view_count": null,
            "_view_module_version": "1.2.0",
            "_model_module": "@jupyter-widgets/controls"
          }
        },
        "fef045e23e8d42ae89979f5353c75f3f": {
          "model_module": "@jupyter-widgets/base",
          "model_name": "LayoutModel",
          "model_module_version": "1.2.0",
          "state": {
            "_view_name": "LayoutView",
            "grid_template_rows": null,
            "right": null,
            "justify_content": null,
            "_view_module": "@jupyter-widgets/base",
            "overflow": null,
            "_model_module_version": "1.2.0",
            "_view_count": null,
            "flex_flow": null,
            "width": null,
            "min_width": null,
            "border": null,
            "align_items": null,
            "bottom": null,
            "_model_module": "@jupyter-widgets/base",
            "top": null,
            "grid_column": null,
            "overflow_y": null,
            "overflow_x": null,
            "grid_auto_flow": null,
            "grid_area": null,
            "grid_template_columns": null,
            "flex": null,
            "_model_name": "LayoutModel",
            "justify_items": null,
            "grid_row": null,
            "max_height": null,
            "align_content": null,
            "visibility": null,
            "align_self": null,
            "height": null,
            "min_height": null,
            "padding": null,
            "grid_auto_rows": null,
            "grid_gap": null,
            "max_width": null,
            "order": null,
            "_view_module_version": "1.2.0",
            "grid_template_areas": null,
            "object_position": null,
            "object_fit": null,
            "grid_auto_columns": null,
            "margin": null,
            "display": null,
            "left": null
          }
        },
        "2b9ee9b30c8e484f8a58b3ae39b06386": {
          "model_module": "@jupyter-widgets/controls",
          "model_name": "HBoxModel",
          "model_module_version": "1.5.0",
          "state": {
            "_view_name": "HBoxView",
            "_dom_classes": [],
            "_model_name": "HBoxModel",
            "_view_module": "@jupyter-widgets/controls",
            "_model_module_version": "1.5.0",
            "_view_count": null,
            "_view_module_version": "1.5.0",
            "box_style": "",
            "layout": "IPY_MODEL_61d08779845b4f38b6f0068a09e83b51",
            "_model_module": "@jupyter-widgets/controls",
            "children": [
              "IPY_MODEL_5142f5c7b7174eacae52b3b6553201e9",
              "IPY_MODEL_7aad4371903246699d3f9769b3d91f58",
              "IPY_MODEL_1b5386ba1596453caf01147677f7ce95"
            ]
          }
        },
        "61d08779845b4f38b6f0068a09e83b51": {
          "model_module": "@jupyter-widgets/base",
          "model_name": "LayoutModel",
          "model_module_version": "1.2.0",
          "state": {
            "_view_name": "LayoutView",
            "grid_template_rows": null,
            "right": null,
            "justify_content": null,
            "_view_module": "@jupyter-widgets/base",
            "overflow": null,
            "_model_module_version": "1.2.0",
            "_view_count": null,
            "flex_flow": null,
            "width": null,
            "min_width": null,
            "border": null,
            "align_items": null,
            "bottom": null,
            "_model_module": "@jupyter-widgets/base",
            "top": null,
            "grid_column": null,
            "overflow_y": null,
            "overflow_x": null,
            "grid_auto_flow": null,
            "grid_area": null,
            "grid_template_columns": null,
            "flex": null,
            "_model_name": "LayoutModel",
            "justify_items": null,
            "grid_row": null,
            "max_height": null,
            "align_content": null,
            "visibility": null,
            "align_self": null,
            "height": null,
            "min_height": null,
            "padding": null,
            "grid_auto_rows": null,
            "grid_gap": null,
            "max_width": null,
            "order": null,
            "_view_module_version": "1.2.0",
            "grid_template_areas": null,
            "object_position": null,
            "object_fit": null,
            "grid_auto_columns": null,
            "margin": null,
            "display": null,
            "left": null
          }
        },
        "5142f5c7b7174eacae52b3b6553201e9": {
          "model_module": "@jupyter-widgets/controls",
          "model_name": "HTMLModel",
          "model_module_version": "1.5.0",
          "state": {
            "_view_name": "HTMLView",
            "style": "IPY_MODEL_c3b36b4a11df422ab894599bb945c2da",
            "_dom_classes": [],
            "description": "",
            "_model_name": "HTMLModel",
            "placeholder": "​",
            "_view_module": "@jupyter-widgets/controls",
            "_model_module_version": "1.5.0",
            "value": "100%",
            "_view_count": null,
            "_view_module_version": "1.5.0",
            "description_tooltip": null,
            "_model_module": "@jupyter-widgets/controls",
            "layout": "IPY_MODEL_ca79a98299c948e9a76cec6167d77a34"
          }
        },
        "7aad4371903246699d3f9769b3d91f58": {
          "model_module": "@jupyter-widgets/controls",
          "model_name": "FloatProgressModel",
          "model_module_version": "1.5.0",
          "state": {
            "_view_name": "ProgressView",
            "style": "IPY_MODEL_1318f324ec2d400f84f0632757b39305",
            "_dom_classes": [],
            "description": "",
            "_model_name": "FloatProgressModel",
            "bar_style": "success",
            "max": 4,
            "_view_module": "@jupyter-widgets/controls",
            "_model_module_version": "1.5.0",
            "value": 4,
            "_view_count": null,
            "_view_module_version": "1.5.0",
            "orientation": "horizontal",
            "min": 0,
            "description_tooltip": null,
            "_model_module": "@jupyter-widgets/controls",
            "layout": "IPY_MODEL_3bf349f27c5c489a88a841353ffcc907"
          }
        },
        "1b5386ba1596453caf01147677f7ce95": {
          "model_module": "@jupyter-widgets/controls",
          "model_name": "HTMLModel",
          "model_module_version": "1.5.0",
          "state": {
            "_view_name": "HTMLView",
            "style": "IPY_MODEL_5db26cbf91734134a78d378962392945",
            "_dom_classes": [],
            "description": "",
            "_model_name": "HTMLModel",
            "placeholder": "​",
            "_view_module": "@jupyter-widgets/controls",
            "_model_module_version": "1.5.0",
            "value": " 4/4 [03:35&lt;00:00, 41.06s/it]",
            "_view_count": null,
            "_view_module_version": "1.5.0",
            "description_tooltip": null,
            "_model_module": "@jupyter-widgets/controls",
            "layout": "IPY_MODEL_6a10399ef39b45c7914ee0d540236391"
          }
        },
        "c3b36b4a11df422ab894599bb945c2da": {
          "model_module": "@jupyter-widgets/controls",
          "model_name": "DescriptionStyleModel",
          "model_module_version": "1.5.0",
          "state": {
            "_view_name": "StyleView",
            "_model_name": "DescriptionStyleModel",
            "description_width": "",
            "_view_module": "@jupyter-widgets/base",
            "_model_module_version": "1.5.0",
            "_view_count": null,
            "_view_module_version": "1.2.0",
            "_model_module": "@jupyter-widgets/controls"
          }
        },
        "ca79a98299c948e9a76cec6167d77a34": {
          "model_module": "@jupyter-widgets/base",
          "model_name": "LayoutModel",
          "model_module_version": "1.2.0",
          "state": {
            "_view_name": "LayoutView",
            "grid_template_rows": null,
            "right": null,
            "justify_content": null,
            "_view_module": "@jupyter-widgets/base",
            "overflow": null,
            "_model_module_version": "1.2.0",
            "_view_count": null,
            "flex_flow": null,
            "width": null,
            "min_width": null,
            "border": null,
            "align_items": null,
            "bottom": null,
            "_model_module": "@jupyter-widgets/base",
            "top": null,
            "grid_column": null,
            "overflow_y": null,
            "overflow_x": null,
            "grid_auto_flow": null,
            "grid_area": null,
            "grid_template_columns": null,
            "flex": null,
            "_model_name": "LayoutModel",
            "justify_items": null,
            "grid_row": null,
            "max_height": null,
            "align_content": null,
            "visibility": null,
            "align_self": null,
            "height": null,
            "min_height": null,
            "padding": null,
            "grid_auto_rows": null,
            "grid_gap": null,
            "max_width": null,
            "order": null,
            "_view_module_version": "1.2.0",
            "grid_template_areas": null,
            "object_position": null,
            "object_fit": null,
            "grid_auto_columns": null,
            "margin": null,
            "display": null,
            "left": null
          }
        },
        "1318f324ec2d400f84f0632757b39305": {
          "model_module": "@jupyter-widgets/controls",
          "model_name": "ProgressStyleModel",
          "model_module_version": "1.5.0",
          "state": {
            "_view_name": "StyleView",
            "_model_name": "ProgressStyleModel",
            "description_width": "",
            "_view_module": "@jupyter-widgets/base",
            "_model_module_version": "1.5.0",
            "_view_count": null,
            "_view_module_version": "1.2.0",
            "bar_color": null,
            "_model_module": "@jupyter-widgets/controls"
          }
        },
        "3bf349f27c5c489a88a841353ffcc907": {
          "model_module": "@jupyter-widgets/base",
          "model_name": "LayoutModel",
          "model_module_version": "1.2.0",
          "state": {
            "_view_name": "LayoutView",
            "grid_template_rows": null,
            "right": null,
            "justify_content": null,
            "_view_module": "@jupyter-widgets/base",
            "overflow": null,
            "_model_module_version": "1.2.0",
            "_view_count": null,
            "flex_flow": null,
            "width": null,
            "min_width": null,
            "border": null,
            "align_items": null,
            "bottom": null,
            "_model_module": "@jupyter-widgets/base",
            "top": null,
            "grid_column": null,
            "overflow_y": null,
            "overflow_x": null,
            "grid_auto_flow": null,
            "grid_area": null,
            "grid_template_columns": null,
            "flex": null,
            "_model_name": "LayoutModel",
            "justify_items": null,
            "grid_row": null,
            "max_height": null,
            "align_content": null,
            "visibility": null,
            "align_self": null,
            "height": null,
            "min_height": null,
            "padding": null,
            "grid_auto_rows": null,
            "grid_gap": null,
            "max_width": null,
            "order": null,
            "_view_module_version": "1.2.0",
            "grid_template_areas": null,
            "object_position": null,
            "object_fit": null,
            "grid_auto_columns": null,
            "margin": null,
            "display": null,
            "left": null
          }
        },
        "5db26cbf91734134a78d378962392945": {
          "model_module": "@jupyter-widgets/controls",
          "model_name": "DescriptionStyleModel",
          "model_module_version": "1.5.0",
          "state": {
            "_view_name": "StyleView",
            "_model_name": "DescriptionStyleModel",
            "description_width": "",
            "_view_module": "@jupyter-widgets/base",
            "_model_module_version": "1.5.0",
            "_view_count": null,
            "_view_module_version": "1.2.0",
            "_model_module": "@jupyter-widgets/controls"
          }
        },
        "6a10399ef39b45c7914ee0d540236391": {
          "model_module": "@jupyter-widgets/base",
          "model_name": "LayoutModel",
          "model_module_version": "1.2.0",
          "state": {
            "_view_name": "LayoutView",
            "grid_template_rows": null,
            "right": null,
            "justify_content": null,
            "_view_module": "@jupyter-widgets/base",
            "overflow": null,
            "_model_module_version": "1.2.0",
            "_view_count": null,
            "flex_flow": null,
            "width": null,
            "min_width": null,
            "border": null,
            "align_items": null,
            "bottom": null,
            "_model_module": "@jupyter-widgets/base",
            "top": null,
            "grid_column": null,
            "overflow_y": null,
            "overflow_x": null,
            "grid_auto_flow": null,
            "grid_area": null,
            "grid_template_columns": null,
            "flex": null,
            "_model_name": "LayoutModel",
            "justify_items": null,
            "grid_row": null,
            "max_height": null,
            "align_content": null,
            "visibility": null,
            "align_self": null,
            "height": null,
            "min_height": null,
            "padding": null,
            "grid_auto_rows": null,
            "grid_gap": null,
            "max_width": null,
            "order": null,
            "_view_module_version": "1.2.0",
            "grid_template_areas": null,
            "object_position": null,
            "object_fit": null,
            "grid_auto_columns": null,
            "margin": null,
            "display": null,
            "left": null
          }
        },
        "0e1c97a114fd46539570e62b952ef01b": {
          "model_module": "@jupyter-widgets/controls",
          "model_name": "HBoxModel",
          "model_module_version": "1.5.0",
          "state": {
            "_view_name": "HBoxView",
            "_dom_classes": [],
            "_model_name": "HBoxModel",
            "_view_module": "@jupyter-widgets/controls",
            "_model_module_version": "1.5.0",
            "_view_count": null,
            "_view_module_version": "1.5.0",
            "box_style": "",
            "layout": "IPY_MODEL_45de0b76cc3d42ff896e270ad600bf2f",
            "_model_module": "@jupyter-widgets/controls",
            "children": [
              "IPY_MODEL_aefc5b50570243a9bba6b361e52fe4e6",
              "IPY_MODEL_4a69f931fa21488aaadf1f7d541e8ea6",
              "IPY_MODEL_7a125a7c6b924773b68cbbc96410cdaf"
            ]
          }
        },
        "45de0b76cc3d42ff896e270ad600bf2f": {
          "model_module": "@jupyter-widgets/base",
          "model_name": "LayoutModel",
          "model_module_version": "1.2.0",
          "state": {
            "_view_name": "LayoutView",
            "grid_template_rows": null,
            "right": null,
            "justify_content": null,
            "_view_module": "@jupyter-widgets/base",
            "overflow": null,
            "_model_module_version": "1.2.0",
            "_view_count": null,
            "flex_flow": null,
            "width": null,
            "min_width": null,
            "border": null,
            "align_items": null,
            "bottom": null,
            "_model_module": "@jupyter-widgets/base",
            "top": null,
            "grid_column": null,
            "overflow_y": null,
            "overflow_x": null,
            "grid_auto_flow": null,
            "grid_area": null,
            "grid_template_columns": null,
            "flex": null,
            "_model_name": "LayoutModel",
            "justify_items": null,
            "grid_row": null,
            "max_height": null,
            "align_content": null,
            "visibility": null,
            "align_self": null,
            "height": null,
            "min_height": null,
            "padding": null,
            "grid_auto_rows": null,
            "grid_gap": null,
            "max_width": null,
            "order": null,
            "_view_module_version": "1.2.0",
            "grid_template_areas": null,
            "object_position": null,
            "object_fit": null,
            "grid_auto_columns": null,
            "margin": null,
            "display": null,
            "left": null
          }
        },
        "aefc5b50570243a9bba6b361e52fe4e6": {
          "model_module": "@jupyter-widgets/controls",
          "model_name": "HTMLModel",
          "model_module_version": "1.5.0",
          "state": {
            "_view_name": "HTMLView",
            "style": "IPY_MODEL_e5ee2ce124c94ecfaa401c9c65787b47",
            "_dom_classes": [],
            "description": "",
            "_model_name": "HTMLModel",
            "placeholder": "​",
            "_view_module": "@jupyter-widgets/controls",
            "_model_module_version": "1.5.0",
            "value": "100%",
            "_view_count": null,
            "_view_module_version": "1.5.0",
            "description_tooltip": null,
            "_model_module": "@jupyter-widgets/controls",
            "layout": "IPY_MODEL_38f88243a8054db4b99b4ea7eae189ee"
          }
        },
        "4a69f931fa21488aaadf1f7d541e8ea6": {
          "model_module": "@jupyter-widgets/controls",
          "model_name": "FloatProgressModel",
          "model_module_version": "1.5.0",
          "state": {
            "_view_name": "ProgressView",
            "style": "IPY_MODEL_ce96c0970ed04d7d9deed1b26125a162",
            "_dom_classes": [],
            "description": "",
            "_model_name": "FloatProgressModel",
            "bar_style": "success",
            "max": 4,
            "_view_module": "@jupyter-widgets/controls",
            "_model_module_version": "1.5.0",
            "value": 4,
            "_view_count": null,
            "_view_module_version": "1.5.0",
            "orientation": "horizontal",
            "min": 0,
            "description_tooltip": null,
            "_model_module": "@jupyter-widgets/controls",
            "layout": "IPY_MODEL_75c86f6abb744f609cc70f8ca7afcdf4"
          }
        },
        "7a125a7c6b924773b68cbbc96410cdaf": {
          "model_module": "@jupyter-widgets/controls",
          "model_name": "HTMLModel",
          "model_module_version": "1.5.0",
          "state": {
            "_view_name": "HTMLView",
            "style": "IPY_MODEL_f1642c3afcd843499bcd7c4276819f69",
            "_dom_classes": [],
            "description": "",
            "_model_name": "HTMLModel",
            "placeholder": "​",
            "_view_module": "@jupyter-widgets/controls",
            "_model_module_version": "1.5.0",
            "value": " 4/4 [04:05&lt;00:00, 46.90s/it]",
            "_view_count": null,
            "_view_module_version": "1.5.0",
            "description_tooltip": null,
            "_model_module": "@jupyter-widgets/controls",
            "layout": "IPY_MODEL_da52570a4e1c471a96792ecc8a54c90c"
          }
        },
        "e5ee2ce124c94ecfaa401c9c65787b47": {
          "model_module": "@jupyter-widgets/controls",
          "model_name": "DescriptionStyleModel",
          "model_module_version": "1.5.0",
          "state": {
            "_view_name": "StyleView",
            "_model_name": "DescriptionStyleModel",
            "description_width": "",
            "_view_module": "@jupyter-widgets/base",
            "_model_module_version": "1.5.0",
            "_view_count": null,
            "_view_module_version": "1.2.0",
            "_model_module": "@jupyter-widgets/controls"
          }
        },
        "38f88243a8054db4b99b4ea7eae189ee": {
          "model_module": "@jupyter-widgets/base",
          "model_name": "LayoutModel",
          "model_module_version": "1.2.0",
          "state": {
            "_view_name": "LayoutView",
            "grid_template_rows": null,
            "right": null,
            "justify_content": null,
            "_view_module": "@jupyter-widgets/base",
            "overflow": null,
            "_model_module_version": "1.2.0",
            "_view_count": null,
            "flex_flow": null,
            "width": null,
            "min_width": null,
            "border": null,
            "align_items": null,
            "bottom": null,
            "_model_module": "@jupyter-widgets/base",
            "top": null,
            "grid_column": null,
            "overflow_y": null,
            "overflow_x": null,
            "grid_auto_flow": null,
            "grid_area": null,
            "grid_template_columns": null,
            "flex": null,
            "_model_name": "LayoutModel",
            "justify_items": null,
            "grid_row": null,
            "max_height": null,
            "align_content": null,
            "visibility": null,
            "align_self": null,
            "height": null,
            "min_height": null,
            "padding": null,
            "grid_auto_rows": null,
            "grid_gap": null,
            "max_width": null,
            "order": null,
            "_view_module_version": "1.2.0",
            "grid_template_areas": null,
            "object_position": null,
            "object_fit": null,
            "grid_auto_columns": null,
            "margin": null,
            "display": null,
            "left": null
          }
        },
        "ce96c0970ed04d7d9deed1b26125a162": {
          "model_module": "@jupyter-widgets/controls",
          "model_name": "ProgressStyleModel",
          "model_module_version": "1.5.0",
          "state": {
            "_view_name": "StyleView",
            "_model_name": "ProgressStyleModel",
            "description_width": "",
            "_view_module": "@jupyter-widgets/base",
            "_model_module_version": "1.5.0",
            "_view_count": null,
            "_view_module_version": "1.2.0",
            "bar_color": null,
            "_model_module": "@jupyter-widgets/controls"
          }
        },
        "75c86f6abb744f609cc70f8ca7afcdf4": {
          "model_module": "@jupyter-widgets/base",
          "model_name": "LayoutModel",
          "model_module_version": "1.2.0",
          "state": {
            "_view_name": "LayoutView",
            "grid_template_rows": null,
            "right": null,
            "justify_content": null,
            "_view_module": "@jupyter-widgets/base",
            "overflow": null,
            "_model_module_version": "1.2.0",
            "_view_count": null,
            "flex_flow": null,
            "width": null,
            "min_width": null,
            "border": null,
            "align_items": null,
            "bottom": null,
            "_model_module": "@jupyter-widgets/base",
            "top": null,
            "grid_column": null,
            "overflow_y": null,
            "overflow_x": null,
            "grid_auto_flow": null,
            "grid_area": null,
            "grid_template_columns": null,
            "flex": null,
            "_model_name": "LayoutModel",
            "justify_items": null,
            "grid_row": null,
            "max_height": null,
            "align_content": null,
            "visibility": null,
            "align_self": null,
            "height": null,
            "min_height": null,
            "padding": null,
            "grid_auto_rows": null,
            "grid_gap": null,
            "max_width": null,
            "order": null,
            "_view_module_version": "1.2.0",
            "grid_template_areas": null,
            "object_position": null,
            "object_fit": null,
            "grid_auto_columns": null,
            "margin": null,
            "display": null,
            "left": null
          }
        },
        "f1642c3afcd843499bcd7c4276819f69": {
          "model_module": "@jupyter-widgets/controls",
          "model_name": "DescriptionStyleModel",
          "model_module_version": "1.5.0",
          "state": {
            "_view_name": "StyleView",
            "_model_name": "DescriptionStyleModel",
            "description_width": "",
            "_view_module": "@jupyter-widgets/base",
            "_model_module_version": "1.5.0",
            "_view_count": null,
            "_view_module_version": "1.2.0",
            "_model_module": "@jupyter-widgets/controls"
          }
        },
        "da52570a4e1c471a96792ecc8a54c90c": {
          "model_module": "@jupyter-widgets/base",
          "model_name": "LayoutModel",
          "model_module_version": "1.2.0",
          "state": {
            "_view_name": "LayoutView",
            "grid_template_rows": null,
            "right": null,
            "justify_content": null,
            "_view_module": "@jupyter-widgets/base",
            "overflow": null,
            "_model_module_version": "1.2.0",
            "_view_count": null,
            "flex_flow": null,
            "width": null,
            "min_width": null,
            "border": null,
            "align_items": null,
            "bottom": null,
            "_model_module": "@jupyter-widgets/base",
            "top": null,
            "grid_column": null,
            "overflow_y": null,
            "overflow_x": null,
            "grid_auto_flow": null,
            "grid_area": null,
            "grid_template_columns": null,
            "flex": null,
            "_model_name": "LayoutModel",
            "justify_items": null,
            "grid_row": null,
            "max_height": null,
            "align_content": null,
            "visibility": null,
            "align_self": null,
            "height": null,
            "min_height": null,
            "padding": null,
            "grid_auto_rows": null,
            "grid_gap": null,
            "max_width": null,
            "order": null,
            "_view_module_version": "1.2.0",
            "grid_template_areas": null,
            "object_position": null,
            "object_fit": null,
            "grid_auto_columns": null,
            "margin": null,
            "display": null,
            "left": null
          }
        },
        "029d32ba079d4f869c1844e549e94133": {
          "model_module": "@jupyter-widgets/controls",
          "model_name": "HBoxModel",
          "model_module_version": "1.5.0",
          "state": {
            "_view_name": "HBoxView",
            "_dom_classes": [],
            "_model_name": "HBoxModel",
            "_view_module": "@jupyter-widgets/controls",
            "_model_module_version": "1.5.0",
            "_view_count": null,
            "_view_module_version": "1.5.0",
            "box_style": "",
            "layout": "IPY_MODEL_b46bb46c327341a8ad8151e8fb6c860e",
            "_model_module": "@jupyter-widgets/controls",
            "children": [
              "IPY_MODEL_341950771ab84836be99be89e135357e",
              "IPY_MODEL_0a9aead99e274a779116b7a05b2acfa9",
              "IPY_MODEL_c641560ede354a95bbf6abec64ca845e"
            ]
          }
        },
        "b46bb46c327341a8ad8151e8fb6c860e": {
          "model_module": "@jupyter-widgets/base",
          "model_name": "LayoutModel",
          "model_module_version": "1.2.0",
          "state": {
            "_view_name": "LayoutView",
            "grid_template_rows": null,
            "right": null,
            "justify_content": null,
            "_view_module": "@jupyter-widgets/base",
            "overflow": null,
            "_model_module_version": "1.2.0",
            "_view_count": null,
            "flex_flow": null,
            "width": null,
            "min_width": null,
            "border": null,
            "align_items": null,
            "bottom": null,
            "_model_module": "@jupyter-widgets/base",
            "top": null,
            "grid_column": null,
            "overflow_y": null,
            "overflow_x": null,
            "grid_auto_flow": null,
            "grid_area": null,
            "grid_template_columns": null,
            "flex": null,
            "_model_name": "LayoutModel",
            "justify_items": null,
            "grid_row": null,
            "max_height": null,
            "align_content": null,
            "visibility": null,
            "align_self": null,
            "height": null,
            "min_height": null,
            "padding": null,
            "grid_auto_rows": null,
            "grid_gap": null,
            "max_width": null,
            "order": null,
            "_view_module_version": "1.2.0",
            "grid_template_areas": null,
            "object_position": null,
            "object_fit": null,
            "grid_auto_columns": null,
            "margin": null,
            "display": null,
            "left": null
          }
        },
        "341950771ab84836be99be89e135357e": {
          "model_module": "@jupyter-widgets/controls",
          "model_name": "HTMLModel",
          "model_module_version": "1.5.0",
          "state": {
            "_view_name": "HTMLView",
            "style": "IPY_MODEL_4f065f3ed3b94d36bf11e272b0a853dc",
            "_dom_classes": [],
            "description": "",
            "_model_name": "HTMLModel",
            "placeholder": "​",
            "_view_module": "@jupyter-widgets/controls",
            "_model_module_version": "1.5.0",
            "value": "100%",
            "_view_count": null,
            "_view_module_version": "1.5.0",
            "description_tooltip": null,
            "_model_module": "@jupyter-widgets/controls",
            "layout": "IPY_MODEL_ba38c05868df4e4a98f04d3aab207598"
          }
        },
        "0a9aead99e274a779116b7a05b2acfa9": {
          "model_module": "@jupyter-widgets/controls",
          "model_name": "FloatProgressModel",
          "model_module_version": "1.5.0",
          "state": {
            "_view_name": "ProgressView",
            "style": "IPY_MODEL_4d022039e7b3450ea349098ea35f85b1",
            "_dom_classes": [],
            "description": "",
            "_model_name": "FloatProgressModel",
            "bar_style": "success",
            "max": 4,
            "_view_module": "@jupyter-widgets/controls",
            "_model_module_version": "1.5.0",
            "value": 4,
            "_view_count": null,
            "_view_module_version": "1.5.0",
            "orientation": "horizontal",
            "min": 0,
            "description_tooltip": null,
            "_model_module": "@jupyter-widgets/controls",
            "layout": "IPY_MODEL_db34f620abde4c34839b1173f60122f6"
          }
        },
        "c641560ede354a95bbf6abec64ca845e": {
          "model_module": "@jupyter-widgets/controls",
          "model_name": "HTMLModel",
          "model_module_version": "1.5.0",
          "state": {
            "_view_name": "HTMLView",
            "style": "IPY_MODEL_3d67d31fa2e44f3788e1df2d185ef233",
            "_dom_classes": [],
            "description": "",
            "_model_name": "HTMLModel",
            "placeholder": "​",
            "_view_module": "@jupyter-widgets/controls",
            "_model_module_version": "1.5.0",
            "value": " 4/4 [01:02&lt;00:00, 16.39s/it]",
            "_view_count": null,
            "_view_module_version": "1.5.0",
            "description_tooltip": null,
            "_model_module": "@jupyter-widgets/controls",
            "layout": "IPY_MODEL_bdae8e9cb7c04a5ba1b5f39de8f60148"
          }
        },
        "4f065f3ed3b94d36bf11e272b0a853dc": {
          "model_module": "@jupyter-widgets/controls",
          "model_name": "DescriptionStyleModel",
          "model_module_version": "1.5.0",
          "state": {
            "_view_name": "StyleView",
            "_model_name": "DescriptionStyleModel",
            "description_width": "",
            "_view_module": "@jupyter-widgets/base",
            "_model_module_version": "1.5.0",
            "_view_count": null,
            "_view_module_version": "1.2.0",
            "_model_module": "@jupyter-widgets/controls"
          }
        },
        "ba38c05868df4e4a98f04d3aab207598": {
          "model_module": "@jupyter-widgets/base",
          "model_name": "LayoutModel",
          "model_module_version": "1.2.0",
          "state": {
            "_view_name": "LayoutView",
            "grid_template_rows": null,
            "right": null,
            "justify_content": null,
            "_view_module": "@jupyter-widgets/base",
            "overflow": null,
            "_model_module_version": "1.2.0",
            "_view_count": null,
            "flex_flow": null,
            "width": null,
            "min_width": null,
            "border": null,
            "align_items": null,
            "bottom": null,
            "_model_module": "@jupyter-widgets/base",
            "top": null,
            "grid_column": null,
            "overflow_y": null,
            "overflow_x": null,
            "grid_auto_flow": null,
            "grid_area": null,
            "grid_template_columns": null,
            "flex": null,
            "_model_name": "LayoutModel",
            "justify_items": null,
            "grid_row": null,
            "max_height": null,
            "align_content": null,
            "visibility": null,
            "align_self": null,
            "height": null,
            "min_height": null,
            "padding": null,
            "grid_auto_rows": null,
            "grid_gap": null,
            "max_width": null,
            "order": null,
            "_view_module_version": "1.2.0",
            "grid_template_areas": null,
            "object_position": null,
            "object_fit": null,
            "grid_auto_columns": null,
            "margin": null,
            "display": null,
            "left": null
          }
        },
        "4d022039e7b3450ea349098ea35f85b1": {
          "model_module": "@jupyter-widgets/controls",
          "model_name": "ProgressStyleModel",
          "model_module_version": "1.5.0",
          "state": {
            "_view_name": "StyleView",
            "_model_name": "ProgressStyleModel",
            "description_width": "",
            "_view_module": "@jupyter-widgets/base",
            "_model_module_version": "1.5.0",
            "_view_count": null,
            "_view_module_version": "1.2.0",
            "bar_color": null,
            "_model_module": "@jupyter-widgets/controls"
          }
        },
        "db34f620abde4c34839b1173f60122f6": {
          "model_module": "@jupyter-widgets/base",
          "model_name": "LayoutModel",
          "model_module_version": "1.2.0",
          "state": {
            "_view_name": "LayoutView",
            "grid_template_rows": null,
            "right": null,
            "justify_content": null,
            "_view_module": "@jupyter-widgets/base",
            "overflow": null,
            "_model_module_version": "1.2.0",
            "_view_count": null,
            "flex_flow": null,
            "width": null,
            "min_width": null,
            "border": null,
            "align_items": null,
            "bottom": null,
            "_model_module": "@jupyter-widgets/base",
            "top": null,
            "grid_column": null,
            "overflow_y": null,
            "overflow_x": null,
            "grid_auto_flow": null,
            "grid_area": null,
            "grid_template_columns": null,
            "flex": null,
            "_model_name": "LayoutModel",
            "justify_items": null,
            "grid_row": null,
            "max_height": null,
            "align_content": null,
            "visibility": null,
            "align_self": null,
            "height": null,
            "min_height": null,
            "padding": null,
            "grid_auto_rows": null,
            "grid_gap": null,
            "max_width": null,
            "order": null,
            "_view_module_version": "1.2.0",
            "grid_template_areas": null,
            "object_position": null,
            "object_fit": null,
            "grid_auto_columns": null,
            "margin": null,
            "display": null,
            "left": null
          }
        },
        "3d67d31fa2e44f3788e1df2d185ef233": {
          "model_module": "@jupyter-widgets/controls",
          "model_name": "DescriptionStyleModel",
          "model_module_version": "1.5.0",
          "state": {
            "_view_name": "StyleView",
            "_model_name": "DescriptionStyleModel",
            "description_width": "",
            "_view_module": "@jupyter-widgets/base",
            "_model_module_version": "1.5.0",
            "_view_count": null,
            "_view_module_version": "1.2.0",
            "_model_module": "@jupyter-widgets/controls"
          }
        },
        "bdae8e9cb7c04a5ba1b5f39de8f60148": {
          "model_module": "@jupyter-widgets/base",
          "model_name": "LayoutModel",
          "model_module_version": "1.2.0",
          "state": {
            "_view_name": "LayoutView",
            "grid_template_rows": null,
            "right": null,
            "justify_content": null,
            "_view_module": "@jupyter-widgets/base",
            "overflow": null,
            "_model_module_version": "1.2.0",
            "_view_count": null,
            "flex_flow": null,
            "width": null,
            "min_width": null,
            "border": null,
            "align_items": null,
            "bottom": null,
            "_model_module": "@jupyter-widgets/base",
            "top": null,
            "grid_column": null,
            "overflow_y": null,
            "overflow_x": null,
            "grid_auto_flow": null,
            "grid_area": null,
            "grid_template_columns": null,
            "flex": null,
            "_model_name": "LayoutModel",
            "justify_items": null,
            "grid_row": null,
            "max_height": null,
            "align_content": null,
            "visibility": null,
            "align_self": null,
            "height": null,
            "min_height": null,
            "padding": null,
            "grid_auto_rows": null,
            "grid_gap": null,
            "max_width": null,
            "order": null,
            "_view_module_version": "1.2.0",
            "grid_template_areas": null,
            "object_position": null,
            "object_fit": null,
            "grid_auto_columns": null,
            "margin": null,
            "display": null,
            "left": null
          }
        },
        "33f8ce6491c0442cbdf80c368aae924b": {
          "model_module": "@jupyter-widgets/controls",
          "model_name": "HBoxModel",
          "model_module_version": "1.5.0",
          "state": {
            "_view_name": "HBoxView",
            "_dom_classes": [],
            "_model_name": "HBoxModel",
            "_view_module": "@jupyter-widgets/controls",
            "_model_module_version": "1.5.0",
            "_view_count": null,
            "_view_module_version": "1.5.0",
            "box_style": "",
            "layout": "IPY_MODEL_e8ca8c38d1ff4dd9bde896b9433b35db",
            "_model_module": "@jupyter-widgets/controls",
            "children": [
              "IPY_MODEL_c43fd9526a6d484c923d896369ed22d9",
              "IPY_MODEL_38192a1f096c402ab717dd4fc131f60c",
              "IPY_MODEL_e1c0565328da41408b658db46511e17a"
            ]
          }
        },
        "e8ca8c38d1ff4dd9bde896b9433b35db": {
          "model_module": "@jupyter-widgets/base",
          "model_name": "LayoutModel",
          "model_module_version": "1.2.0",
          "state": {
            "_view_name": "LayoutView",
            "grid_template_rows": null,
            "right": null,
            "justify_content": null,
            "_view_module": "@jupyter-widgets/base",
            "overflow": null,
            "_model_module_version": "1.2.0",
            "_view_count": null,
            "flex_flow": null,
            "width": null,
            "min_width": null,
            "border": null,
            "align_items": null,
            "bottom": null,
            "_model_module": "@jupyter-widgets/base",
            "top": null,
            "grid_column": null,
            "overflow_y": null,
            "overflow_x": null,
            "grid_auto_flow": null,
            "grid_area": null,
            "grid_template_columns": null,
            "flex": null,
            "_model_name": "LayoutModel",
            "justify_items": null,
            "grid_row": null,
            "max_height": null,
            "align_content": null,
            "visibility": null,
            "align_self": null,
            "height": null,
            "min_height": null,
            "padding": null,
            "grid_auto_rows": null,
            "grid_gap": null,
            "max_width": null,
            "order": null,
            "_view_module_version": "1.2.0",
            "grid_template_areas": null,
            "object_position": null,
            "object_fit": null,
            "grid_auto_columns": null,
            "margin": null,
            "display": null,
            "left": null
          }
        },
        "c43fd9526a6d484c923d896369ed22d9": {
          "model_module": "@jupyter-widgets/controls",
          "model_name": "HTMLModel",
          "model_module_version": "1.5.0",
          "state": {
            "_view_name": "HTMLView",
            "style": "IPY_MODEL_0bfa7dac7c3f4506acd321224ed54961",
            "_dom_classes": [],
            "description": "",
            "_model_name": "HTMLModel",
            "placeholder": "​",
            "_view_module": "@jupyter-widgets/controls",
            "_model_module_version": "1.5.0",
            "value": "100%",
            "_view_count": null,
            "_view_module_version": "1.5.0",
            "description_tooltip": null,
            "_model_module": "@jupyter-widgets/controls",
            "layout": "IPY_MODEL_91d7ac5c5f374076933edc46ebda7000"
          }
        },
        "38192a1f096c402ab717dd4fc131f60c": {
          "model_module": "@jupyter-widgets/controls",
          "model_name": "FloatProgressModel",
          "model_module_version": "1.5.0",
          "state": {
            "_view_name": "ProgressView",
            "style": "IPY_MODEL_807683e015584ea7aacea2417ac07b08",
            "_dom_classes": [],
            "description": "",
            "_model_name": "FloatProgressModel",
            "bar_style": "success",
            "max": 2134,
            "_view_module": "@jupyter-widgets/controls",
            "_model_module_version": "1.5.0",
            "value": 2134,
            "_view_count": null,
            "_view_module_version": "1.5.0",
            "orientation": "horizontal",
            "min": 0,
            "description_tooltip": null,
            "_model_module": "@jupyter-widgets/controls",
            "layout": "IPY_MODEL_6d983effb85541b08291edb47d8baf7a"
          }
        },
        "e1c0565328da41408b658db46511e17a": {
          "model_module": "@jupyter-widgets/controls",
          "model_name": "HTMLModel",
          "model_module_version": "1.5.0",
          "state": {
            "_view_name": "HTMLView",
            "style": "IPY_MODEL_c2e8646164484447a016b0d0e65a18bd",
            "_dom_classes": [],
            "description": "",
            "_model_name": "HTMLModel",
            "placeholder": "​",
            "_view_module": "@jupyter-widgets/controls",
            "_model_module_version": "1.5.0",
            "value": " 2134/2134 [00:14&lt;00:00, 147.00it/s]",
            "_view_count": null,
            "_view_module_version": "1.5.0",
            "description_tooltip": null,
            "_model_module": "@jupyter-widgets/controls",
            "layout": "IPY_MODEL_d3a65d988961498294e71c86e5934162"
          }
        },
        "0bfa7dac7c3f4506acd321224ed54961": {
          "model_module": "@jupyter-widgets/controls",
          "model_name": "DescriptionStyleModel",
          "model_module_version": "1.5.0",
          "state": {
            "_view_name": "StyleView",
            "_model_name": "DescriptionStyleModel",
            "description_width": "",
            "_view_module": "@jupyter-widgets/base",
            "_model_module_version": "1.5.0",
            "_view_count": null,
            "_view_module_version": "1.2.0",
            "_model_module": "@jupyter-widgets/controls"
          }
        },
        "91d7ac5c5f374076933edc46ebda7000": {
          "model_module": "@jupyter-widgets/base",
          "model_name": "LayoutModel",
          "model_module_version": "1.2.0",
          "state": {
            "_view_name": "LayoutView",
            "grid_template_rows": null,
            "right": null,
            "justify_content": null,
            "_view_module": "@jupyter-widgets/base",
            "overflow": null,
            "_model_module_version": "1.2.0",
            "_view_count": null,
            "flex_flow": null,
            "width": null,
            "min_width": null,
            "border": null,
            "align_items": null,
            "bottom": null,
            "_model_module": "@jupyter-widgets/base",
            "top": null,
            "grid_column": null,
            "overflow_y": null,
            "overflow_x": null,
            "grid_auto_flow": null,
            "grid_area": null,
            "grid_template_columns": null,
            "flex": null,
            "_model_name": "LayoutModel",
            "justify_items": null,
            "grid_row": null,
            "max_height": null,
            "align_content": null,
            "visibility": null,
            "align_self": null,
            "height": null,
            "min_height": null,
            "padding": null,
            "grid_auto_rows": null,
            "grid_gap": null,
            "max_width": null,
            "order": null,
            "_view_module_version": "1.2.0",
            "grid_template_areas": null,
            "object_position": null,
            "object_fit": null,
            "grid_auto_columns": null,
            "margin": null,
            "display": null,
            "left": null
          }
        },
        "807683e015584ea7aacea2417ac07b08": {
          "model_module": "@jupyter-widgets/controls",
          "model_name": "ProgressStyleModel",
          "model_module_version": "1.5.0",
          "state": {
            "_view_name": "StyleView",
            "_model_name": "ProgressStyleModel",
            "description_width": "",
            "_view_module": "@jupyter-widgets/base",
            "_model_module_version": "1.5.0",
            "_view_count": null,
            "_view_module_version": "1.2.0",
            "bar_color": null,
            "_model_module": "@jupyter-widgets/controls"
          }
        },
        "6d983effb85541b08291edb47d8baf7a": {
          "model_module": "@jupyter-widgets/base",
          "model_name": "LayoutModel",
          "model_module_version": "1.2.0",
          "state": {
            "_view_name": "LayoutView",
            "grid_template_rows": null,
            "right": null,
            "justify_content": null,
            "_view_module": "@jupyter-widgets/base",
            "overflow": null,
            "_model_module_version": "1.2.0",
            "_view_count": null,
            "flex_flow": null,
            "width": null,
            "min_width": null,
            "border": null,
            "align_items": null,
            "bottom": null,
            "_model_module": "@jupyter-widgets/base",
            "top": null,
            "grid_column": null,
            "overflow_y": null,
            "overflow_x": null,
            "grid_auto_flow": null,
            "grid_area": null,
            "grid_template_columns": null,
            "flex": null,
            "_model_name": "LayoutModel",
            "justify_items": null,
            "grid_row": null,
            "max_height": null,
            "align_content": null,
            "visibility": null,
            "align_self": null,
            "height": null,
            "min_height": null,
            "padding": null,
            "grid_auto_rows": null,
            "grid_gap": null,
            "max_width": null,
            "order": null,
            "_view_module_version": "1.2.0",
            "grid_template_areas": null,
            "object_position": null,
            "object_fit": null,
            "grid_auto_columns": null,
            "margin": null,
            "display": null,
            "left": null
          }
        },
        "c2e8646164484447a016b0d0e65a18bd": {
          "model_module": "@jupyter-widgets/controls",
          "model_name": "DescriptionStyleModel",
          "model_module_version": "1.5.0",
          "state": {
            "_view_name": "StyleView",
            "_model_name": "DescriptionStyleModel",
            "description_width": "",
            "_view_module": "@jupyter-widgets/base",
            "_model_module_version": "1.5.0",
            "_view_count": null,
            "_view_module_version": "1.2.0",
            "_model_module": "@jupyter-widgets/controls"
          }
        },
        "d3a65d988961498294e71c86e5934162": {
          "model_module": "@jupyter-widgets/base",
          "model_name": "LayoutModel",
          "model_module_version": "1.2.0",
          "state": {
            "_view_name": "LayoutView",
            "grid_template_rows": null,
            "right": null,
            "justify_content": null,
            "_view_module": "@jupyter-widgets/base",
            "overflow": null,
            "_model_module_version": "1.2.0",
            "_view_count": null,
            "flex_flow": null,
            "width": null,
            "min_width": null,
            "border": null,
            "align_items": null,
            "bottom": null,
            "_model_module": "@jupyter-widgets/base",
            "top": null,
            "grid_column": null,
            "overflow_y": null,
            "overflow_x": null,
            "grid_auto_flow": null,
            "grid_area": null,
            "grid_template_columns": null,
            "flex": null,
            "_model_name": "LayoutModel",
            "justify_items": null,
            "grid_row": null,
            "max_height": null,
            "align_content": null,
            "visibility": null,
            "align_self": null,
            "height": null,
            "min_height": null,
            "padding": null,
            "grid_auto_rows": null,
            "grid_gap": null,
            "max_width": null,
            "order": null,
            "_view_module_version": "1.2.0",
            "grid_template_areas": null,
            "object_position": null,
            "object_fit": null,
            "grid_auto_columns": null,
            "margin": null,
            "display": null,
            "left": null
          }
        },
        "79407ac579474a449b7e2092f7517e92": {
          "model_module": "@jupyter-widgets/controls",
          "model_name": "HBoxModel",
          "model_module_version": "1.5.0",
          "state": {
            "_view_name": "HBoxView",
            "_dom_classes": [],
            "_model_name": "HBoxModel",
            "_view_module": "@jupyter-widgets/controls",
            "_model_module_version": "1.5.0",
            "_view_count": null,
            "_view_module_version": "1.5.0",
            "box_style": "",
            "layout": "IPY_MODEL_b2feb7551bf046b098da8e0be51be1f4",
            "_model_module": "@jupyter-widgets/controls",
            "children": [
              "IPY_MODEL_81061260071443e8ae637a8a333d6466",
              "IPY_MODEL_e0ea16c58de04ef0bf8a5f2717687b72",
              "IPY_MODEL_7ef7016d310f4447856936780e7858a2"
            ]
          }
        },
        "b2feb7551bf046b098da8e0be51be1f4": {
          "model_module": "@jupyter-widgets/base",
          "model_name": "LayoutModel",
          "model_module_version": "1.2.0",
          "state": {
            "_view_name": "LayoutView",
            "grid_template_rows": null,
            "right": null,
            "justify_content": null,
            "_view_module": "@jupyter-widgets/base",
            "overflow": null,
            "_model_module_version": "1.2.0",
            "_view_count": null,
            "flex_flow": null,
            "width": null,
            "min_width": null,
            "border": null,
            "align_items": null,
            "bottom": null,
            "_model_module": "@jupyter-widgets/base",
            "top": null,
            "grid_column": null,
            "overflow_y": null,
            "overflow_x": null,
            "grid_auto_flow": null,
            "grid_area": null,
            "grid_template_columns": null,
            "flex": null,
            "_model_name": "LayoutModel",
            "justify_items": null,
            "grid_row": null,
            "max_height": null,
            "align_content": null,
            "visibility": null,
            "align_self": null,
            "height": null,
            "min_height": null,
            "padding": null,
            "grid_auto_rows": null,
            "grid_gap": null,
            "max_width": null,
            "order": null,
            "_view_module_version": "1.2.0",
            "grid_template_areas": null,
            "object_position": null,
            "object_fit": null,
            "grid_auto_columns": null,
            "margin": null,
            "display": null,
            "left": null
          }
        },
        "81061260071443e8ae637a8a333d6466": {
          "model_module": "@jupyter-widgets/controls",
          "model_name": "HTMLModel",
          "model_module_version": "1.5.0",
          "state": {
            "_view_name": "HTMLView",
            "style": "IPY_MODEL_ce72f31f9c1f4661abf939377905135a",
            "_dom_classes": [],
            "description": "",
            "_model_name": "HTMLModel",
            "placeholder": "​",
            "_view_module": "@jupyter-widgets/controls",
            "_model_module_version": "1.5.0",
            "value": "100%",
            "_view_count": null,
            "_view_module_version": "1.5.0",
            "description_tooltip": null,
            "_model_module": "@jupyter-widgets/controls",
            "layout": "IPY_MODEL_4688e52f683142a2af4d4c0252492331"
          }
        },
        "e0ea16c58de04ef0bf8a5f2717687b72": {
          "model_module": "@jupyter-widgets/controls",
          "model_name": "FloatProgressModel",
          "model_module_version": "1.5.0",
          "state": {
            "_view_name": "ProgressView",
            "style": "IPY_MODEL_f505bb09aa9c401c97beffb9f660dd69",
            "_dom_classes": [],
            "description": "",
            "_model_name": "FloatProgressModel",
            "bar_style": "success",
            "max": 1994,
            "_view_module": "@jupyter-widgets/controls",
            "_model_module_version": "1.5.0",
            "value": 1994,
            "_view_count": null,
            "_view_module_version": "1.5.0",
            "orientation": "horizontal",
            "min": 0,
            "description_tooltip": null,
            "_model_module": "@jupyter-widgets/controls",
            "layout": "IPY_MODEL_7f965c4c2b1148a880043c12325f67a7"
          }
        },
        "7ef7016d310f4447856936780e7858a2": {
          "model_module": "@jupyter-widgets/controls",
          "model_name": "HTMLModel",
          "model_module_version": "1.5.0",
          "state": {
            "_view_name": "HTMLView",
            "style": "IPY_MODEL_b8a950616f4c4f1a9625531ab39662dd",
            "_dom_classes": [],
            "description": "",
            "_model_name": "HTMLModel",
            "placeholder": "​",
            "_view_module": "@jupyter-widgets/controls",
            "_model_module_version": "1.5.0",
            "value": " 1994/1994 [00:13&lt;00:00, 148.72it/s]",
            "_view_count": null,
            "_view_module_version": "1.5.0",
            "description_tooltip": null,
            "_model_module": "@jupyter-widgets/controls",
            "layout": "IPY_MODEL_2acba59b08214ca89b2520be8b08f6b7"
          }
        },
        "ce72f31f9c1f4661abf939377905135a": {
          "model_module": "@jupyter-widgets/controls",
          "model_name": "DescriptionStyleModel",
          "model_module_version": "1.5.0",
          "state": {
            "_view_name": "StyleView",
            "_model_name": "DescriptionStyleModel",
            "description_width": "",
            "_view_module": "@jupyter-widgets/base",
            "_model_module_version": "1.5.0",
            "_view_count": null,
            "_view_module_version": "1.2.0",
            "_model_module": "@jupyter-widgets/controls"
          }
        },
        "4688e52f683142a2af4d4c0252492331": {
          "model_module": "@jupyter-widgets/base",
          "model_name": "LayoutModel",
          "model_module_version": "1.2.0",
          "state": {
            "_view_name": "LayoutView",
            "grid_template_rows": null,
            "right": null,
            "justify_content": null,
            "_view_module": "@jupyter-widgets/base",
            "overflow": null,
            "_model_module_version": "1.2.0",
            "_view_count": null,
            "flex_flow": null,
            "width": null,
            "min_width": null,
            "border": null,
            "align_items": null,
            "bottom": null,
            "_model_module": "@jupyter-widgets/base",
            "top": null,
            "grid_column": null,
            "overflow_y": null,
            "overflow_x": null,
            "grid_auto_flow": null,
            "grid_area": null,
            "grid_template_columns": null,
            "flex": null,
            "_model_name": "LayoutModel",
            "justify_items": null,
            "grid_row": null,
            "max_height": null,
            "align_content": null,
            "visibility": null,
            "align_self": null,
            "height": null,
            "min_height": null,
            "padding": null,
            "grid_auto_rows": null,
            "grid_gap": null,
            "max_width": null,
            "order": null,
            "_view_module_version": "1.2.0",
            "grid_template_areas": null,
            "object_position": null,
            "object_fit": null,
            "grid_auto_columns": null,
            "margin": null,
            "display": null,
            "left": null
          }
        },
        "f505bb09aa9c401c97beffb9f660dd69": {
          "model_module": "@jupyter-widgets/controls",
          "model_name": "ProgressStyleModel",
          "model_module_version": "1.5.0",
          "state": {
            "_view_name": "StyleView",
            "_model_name": "ProgressStyleModel",
            "description_width": "",
            "_view_module": "@jupyter-widgets/base",
            "_model_module_version": "1.5.0",
            "_view_count": null,
            "_view_module_version": "1.2.0",
            "bar_color": null,
            "_model_module": "@jupyter-widgets/controls"
          }
        },
        "7f965c4c2b1148a880043c12325f67a7": {
          "model_module": "@jupyter-widgets/base",
          "model_name": "LayoutModel",
          "model_module_version": "1.2.0",
          "state": {
            "_view_name": "LayoutView",
            "grid_template_rows": null,
            "right": null,
            "justify_content": null,
            "_view_module": "@jupyter-widgets/base",
            "overflow": null,
            "_model_module_version": "1.2.0",
            "_view_count": null,
            "flex_flow": null,
            "width": null,
            "min_width": null,
            "border": null,
            "align_items": null,
            "bottom": null,
            "_model_module": "@jupyter-widgets/base",
            "top": null,
            "grid_column": null,
            "overflow_y": null,
            "overflow_x": null,
            "grid_auto_flow": null,
            "grid_area": null,
            "grid_template_columns": null,
            "flex": null,
            "_model_name": "LayoutModel",
            "justify_items": null,
            "grid_row": null,
            "max_height": null,
            "align_content": null,
            "visibility": null,
            "align_self": null,
            "height": null,
            "min_height": null,
            "padding": null,
            "grid_auto_rows": null,
            "grid_gap": null,
            "max_width": null,
            "order": null,
            "_view_module_version": "1.2.0",
            "grid_template_areas": null,
            "object_position": null,
            "object_fit": null,
            "grid_auto_columns": null,
            "margin": null,
            "display": null,
            "left": null
          }
        },
        "b8a950616f4c4f1a9625531ab39662dd": {
          "model_module": "@jupyter-widgets/controls",
          "model_name": "DescriptionStyleModel",
          "model_module_version": "1.5.0",
          "state": {
            "_view_name": "StyleView",
            "_model_name": "DescriptionStyleModel",
            "description_width": "",
            "_view_module": "@jupyter-widgets/base",
            "_model_module_version": "1.5.0",
            "_view_count": null,
            "_view_module_version": "1.2.0",
            "_model_module": "@jupyter-widgets/controls"
          }
        },
        "2acba59b08214ca89b2520be8b08f6b7": {
          "model_module": "@jupyter-widgets/base",
          "model_name": "LayoutModel",
          "model_module_version": "1.2.0",
          "state": {
            "_view_name": "LayoutView",
            "grid_template_rows": null,
            "right": null,
            "justify_content": null,
            "_view_module": "@jupyter-widgets/base",
            "overflow": null,
            "_model_module_version": "1.2.0",
            "_view_count": null,
            "flex_flow": null,
            "width": null,
            "min_width": null,
            "border": null,
            "align_items": null,
            "bottom": null,
            "_model_module": "@jupyter-widgets/base",
            "top": null,
            "grid_column": null,
            "overflow_y": null,
            "overflow_x": null,
            "grid_auto_flow": null,
            "grid_area": null,
            "grid_template_columns": null,
            "flex": null,
            "_model_name": "LayoutModel",
            "justify_items": null,
            "grid_row": null,
            "max_height": null,
            "align_content": null,
            "visibility": null,
            "align_self": null,
            "height": null,
            "min_height": null,
            "padding": null,
            "grid_auto_rows": null,
            "grid_gap": null,
            "max_width": null,
            "order": null,
            "_view_module_version": "1.2.0",
            "grid_template_areas": null,
            "object_position": null,
            "object_fit": null,
            "grid_auto_columns": null,
            "margin": null,
            "display": null,
            "left": null
          }
        },
        "0f9c0c1d3d304a2985742a6b06fe5540": {
          "model_module": "@jupyter-widgets/controls",
          "model_name": "HBoxModel",
          "model_module_version": "1.5.0",
          "state": {
            "_view_name": "HBoxView",
            "_dom_classes": [],
            "_model_name": "HBoxModel",
            "_view_module": "@jupyter-widgets/controls",
            "_model_module_version": "1.5.0",
            "_view_count": null,
            "_view_module_version": "1.5.0",
            "box_style": "",
            "layout": "IPY_MODEL_0c4e64ba4ece4734b0583abe1791dd1d",
            "_model_module": "@jupyter-widgets/controls",
            "children": [
              "IPY_MODEL_f899802298d044d0bffd75df073ebce2",
              "IPY_MODEL_f359a29b209a4b368b943005c8d0c289",
              "IPY_MODEL_2241268359b44abfa56699cf9b23abcf"
            ]
          }
        },
        "0c4e64ba4ece4734b0583abe1791dd1d": {
          "model_module": "@jupyter-widgets/base",
          "model_name": "LayoutModel",
          "model_module_version": "1.2.0",
          "state": {
            "_view_name": "LayoutView",
            "grid_template_rows": null,
            "right": null,
            "justify_content": null,
            "_view_module": "@jupyter-widgets/base",
            "overflow": null,
            "_model_module_version": "1.2.0",
            "_view_count": null,
            "flex_flow": null,
            "width": null,
            "min_width": null,
            "border": null,
            "align_items": null,
            "bottom": null,
            "_model_module": "@jupyter-widgets/base",
            "top": null,
            "grid_column": null,
            "overflow_y": null,
            "overflow_x": null,
            "grid_auto_flow": null,
            "grid_area": null,
            "grid_template_columns": null,
            "flex": null,
            "_model_name": "LayoutModel",
            "justify_items": null,
            "grid_row": null,
            "max_height": null,
            "align_content": null,
            "visibility": null,
            "align_self": null,
            "height": null,
            "min_height": null,
            "padding": null,
            "grid_auto_rows": null,
            "grid_gap": null,
            "max_width": null,
            "order": null,
            "_view_module_version": "1.2.0",
            "grid_template_areas": null,
            "object_position": null,
            "object_fit": null,
            "grid_auto_columns": null,
            "margin": null,
            "display": null,
            "left": null
          }
        },
        "f899802298d044d0bffd75df073ebce2": {
          "model_module": "@jupyter-widgets/controls",
          "model_name": "HTMLModel",
          "model_module_version": "1.5.0",
          "state": {
            "_view_name": "HTMLView",
            "style": "IPY_MODEL_e349bc39dccb4b1d9baccfc9014e80b8",
            "_dom_classes": [],
            "description": "",
            "_model_name": "HTMLModel",
            "placeholder": "​",
            "_view_module": "@jupyter-widgets/controls",
            "_model_module_version": "1.5.0",
            "value": "100%",
            "_view_count": null,
            "_view_module_version": "1.5.0",
            "description_tooltip": null,
            "_model_module": "@jupyter-widgets/controls",
            "layout": "IPY_MODEL_4d4674bf0a7644fdbbfb62f3b6a779a5"
          }
        },
        "f359a29b209a4b368b943005c8d0c289": {
          "model_module": "@jupyter-widgets/controls",
          "model_name": "FloatProgressModel",
          "model_module_version": "1.5.0",
          "state": {
            "_view_name": "ProgressView",
            "style": "IPY_MODEL_60624b44b8be4918b9d27df7e3f9a32e",
            "_dom_classes": [],
            "description": "",
            "_model_name": "FloatProgressModel",
            "bar_style": "success",
            "max": 2321,
            "_view_module": "@jupyter-widgets/controls",
            "_model_module_version": "1.5.0",
            "value": 2321,
            "_view_count": null,
            "_view_module_version": "1.5.0",
            "orientation": "horizontal",
            "min": 0,
            "description_tooltip": null,
            "_model_module": "@jupyter-widgets/controls",
            "layout": "IPY_MODEL_344541a4c1e0444a975fb5d0b6fc9a74"
          }
        },
        "2241268359b44abfa56699cf9b23abcf": {
          "model_module": "@jupyter-widgets/controls",
          "model_name": "HTMLModel",
          "model_module_version": "1.5.0",
          "state": {
            "_view_name": "HTMLView",
            "style": "IPY_MODEL_a893cc8c2df545e3a47a7907a141cbc1",
            "_dom_classes": [],
            "description": "",
            "_model_name": "HTMLModel",
            "placeholder": "​",
            "_view_module": "@jupyter-widgets/controls",
            "_model_module_version": "1.5.0",
            "value": " 2321/2321 [00:15&lt;00:00, 154.36it/s]",
            "_view_count": null,
            "_view_module_version": "1.5.0",
            "description_tooltip": null,
            "_model_module": "@jupyter-widgets/controls",
            "layout": "IPY_MODEL_6d32254292384aa9a8e55bfe1a1566c7"
          }
        },
        "e349bc39dccb4b1d9baccfc9014e80b8": {
          "model_module": "@jupyter-widgets/controls",
          "model_name": "DescriptionStyleModel",
          "model_module_version": "1.5.0",
          "state": {
            "_view_name": "StyleView",
            "_model_name": "DescriptionStyleModel",
            "description_width": "",
            "_view_module": "@jupyter-widgets/base",
            "_model_module_version": "1.5.0",
            "_view_count": null,
            "_view_module_version": "1.2.0",
            "_model_module": "@jupyter-widgets/controls"
          }
        },
        "4d4674bf0a7644fdbbfb62f3b6a779a5": {
          "model_module": "@jupyter-widgets/base",
          "model_name": "LayoutModel",
          "model_module_version": "1.2.0",
          "state": {
            "_view_name": "LayoutView",
            "grid_template_rows": null,
            "right": null,
            "justify_content": null,
            "_view_module": "@jupyter-widgets/base",
            "overflow": null,
            "_model_module_version": "1.2.0",
            "_view_count": null,
            "flex_flow": null,
            "width": null,
            "min_width": null,
            "border": null,
            "align_items": null,
            "bottom": null,
            "_model_module": "@jupyter-widgets/base",
            "top": null,
            "grid_column": null,
            "overflow_y": null,
            "overflow_x": null,
            "grid_auto_flow": null,
            "grid_area": null,
            "grid_template_columns": null,
            "flex": null,
            "_model_name": "LayoutModel",
            "justify_items": null,
            "grid_row": null,
            "max_height": null,
            "align_content": null,
            "visibility": null,
            "align_self": null,
            "height": null,
            "min_height": null,
            "padding": null,
            "grid_auto_rows": null,
            "grid_gap": null,
            "max_width": null,
            "order": null,
            "_view_module_version": "1.2.0",
            "grid_template_areas": null,
            "object_position": null,
            "object_fit": null,
            "grid_auto_columns": null,
            "margin": null,
            "display": null,
            "left": null
          }
        },
        "60624b44b8be4918b9d27df7e3f9a32e": {
          "model_module": "@jupyter-widgets/controls",
          "model_name": "ProgressStyleModel",
          "model_module_version": "1.5.0",
          "state": {
            "_view_name": "StyleView",
            "_model_name": "ProgressStyleModel",
            "description_width": "",
            "_view_module": "@jupyter-widgets/base",
            "_model_module_version": "1.5.0",
            "_view_count": null,
            "_view_module_version": "1.2.0",
            "bar_color": null,
            "_model_module": "@jupyter-widgets/controls"
          }
        },
        "344541a4c1e0444a975fb5d0b6fc9a74": {
          "model_module": "@jupyter-widgets/base",
          "model_name": "LayoutModel",
          "model_module_version": "1.2.0",
          "state": {
            "_view_name": "LayoutView",
            "grid_template_rows": null,
            "right": null,
            "justify_content": null,
            "_view_module": "@jupyter-widgets/base",
            "overflow": null,
            "_model_module_version": "1.2.0",
            "_view_count": null,
            "flex_flow": null,
            "width": null,
            "min_width": null,
            "border": null,
            "align_items": null,
            "bottom": null,
            "_model_module": "@jupyter-widgets/base",
            "top": null,
            "grid_column": null,
            "overflow_y": null,
            "overflow_x": null,
            "grid_auto_flow": null,
            "grid_area": null,
            "grid_template_columns": null,
            "flex": null,
            "_model_name": "LayoutModel",
            "justify_items": null,
            "grid_row": null,
            "max_height": null,
            "align_content": null,
            "visibility": null,
            "align_self": null,
            "height": null,
            "min_height": null,
            "padding": null,
            "grid_auto_rows": null,
            "grid_gap": null,
            "max_width": null,
            "order": null,
            "_view_module_version": "1.2.0",
            "grid_template_areas": null,
            "object_position": null,
            "object_fit": null,
            "grid_auto_columns": null,
            "margin": null,
            "display": null,
            "left": null
          }
        },
        "a893cc8c2df545e3a47a7907a141cbc1": {
          "model_module": "@jupyter-widgets/controls",
          "model_name": "DescriptionStyleModel",
          "model_module_version": "1.5.0",
          "state": {
            "_view_name": "StyleView",
            "_model_name": "DescriptionStyleModel",
            "description_width": "",
            "_view_module": "@jupyter-widgets/base",
            "_model_module_version": "1.5.0",
            "_view_count": null,
            "_view_module_version": "1.2.0",
            "_model_module": "@jupyter-widgets/controls"
          }
        },
        "6d32254292384aa9a8e55bfe1a1566c7": {
          "model_module": "@jupyter-widgets/base",
          "model_name": "LayoutModel",
          "model_module_version": "1.2.0",
          "state": {
            "_view_name": "LayoutView",
            "grid_template_rows": null,
            "right": null,
            "justify_content": null,
            "_view_module": "@jupyter-widgets/base",
            "overflow": null,
            "_model_module_version": "1.2.0",
            "_view_count": null,
            "flex_flow": null,
            "width": null,
            "min_width": null,
            "border": null,
            "align_items": null,
            "bottom": null,
            "_model_module": "@jupyter-widgets/base",
            "top": null,
            "grid_column": null,
            "overflow_y": null,
            "overflow_x": null,
            "grid_auto_flow": null,
            "grid_area": null,
            "grid_template_columns": null,
            "flex": null,
            "_model_name": "LayoutModel",
            "justify_items": null,
            "grid_row": null,
            "max_height": null,
            "align_content": null,
            "visibility": null,
            "align_self": null,
            "height": null,
            "min_height": null,
            "padding": null,
            "grid_auto_rows": null,
            "grid_gap": null,
            "max_width": null,
            "order": null,
            "_view_module_version": "1.2.0",
            "grid_template_areas": null,
            "object_position": null,
            "object_fit": null,
            "grid_auto_columns": null,
            "margin": null,
            "display": null,
            "left": null
          }
        },
        "41632093c5bb4ec496ec0adbc6c4bb45": {
          "model_module": "@jupyter-widgets/controls",
          "model_name": "HBoxModel",
          "model_module_version": "1.5.0",
          "state": {
            "_view_name": "HBoxView",
            "_dom_classes": [],
            "_model_name": "HBoxModel",
            "_view_module": "@jupyter-widgets/controls",
            "_model_module_version": "1.5.0",
            "_view_count": null,
            "_view_module_version": "1.5.0",
            "box_style": "",
            "layout": "IPY_MODEL_ca40f18a178d43e1b2d75931155efc88",
            "_model_module": "@jupyter-widgets/controls",
            "children": [
              "IPY_MODEL_2a7eaa45a365465ab863ebd6939156c7",
              "IPY_MODEL_1f8d2a3f637040249eb230556a37c82b",
              "IPY_MODEL_016aebd74155460b828643de719b92ea"
            ]
          }
        },
        "ca40f18a178d43e1b2d75931155efc88": {
          "model_module": "@jupyter-widgets/base",
          "model_name": "LayoutModel",
          "model_module_version": "1.2.0",
          "state": {
            "_view_name": "LayoutView",
            "grid_template_rows": null,
            "right": null,
            "justify_content": null,
            "_view_module": "@jupyter-widgets/base",
            "overflow": null,
            "_model_module_version": "1.2.0",
            "_view_count": null,
            "flex_flow": null,
            "width": null,
            "min_width": null,
            "border": null,
            "align_items": null,
            "bottom": null,
            "_model_module": "@jupyter-widgets/base",
            "top": null,
            "grid_column": null,
            "overflow_y": null,
            "overflow_x": null,
            "grid_auto_flow": null,
            "grid_area": null,
            "grid_template_columns": null,
            "flex": null,
            "_model_name": "LayoutModel",
            "justify_items": null,
            "grid_row": null,
            "max_height": null,
            "align_content": null,
            "visibility": null,
            "align_self": null,
            "height": null,
            "min_height": null,
            "padding": null,
            "grid_auto_rows": null,
            "grid_gap": null,
            "max_width": null,
            "order": null,
            "_view_module_version": "1.2.0",
            "grid_template_areas": null,
            "object_position": null,
            "object_fit": null,
            "grid_auto_columns": null,
            "margin": null,
            "display": null,
            "left": null
          }
        },
        "2a7eaa45a365465ab863ebd6939156c7": {
          "model_module": "@jupyter-widgets/controls",
          "model_name": "HTMLModel",
          "model_module_version": "1.5.0",
          "state": {
            "_view_name": "HTMLView",
            "style": "IPY_MODEL_c72c13a781624f3ab5b079d12e4b9c80",
            "_dom_classes": [],
            "description": "",
            "_model_name": "HTMLModel",
            "placeholder": "​",
            "_view_module": "@jupyter-widgets/controls",
            "_model_module_version": "1.5.0",
            "value": "100%",
            "_view_count": null,
            "_view_module_version": "1.5.0",
            "description_tooltip": null,
            "_model_module": "@jupyter-widgets/controls",
            "layout": "IPY_MODEL_eeb37daa3db74f688b239ba2d8a5812f"
          }
        },
        "1f8d2a3f637040249eb230556a37c82b": {
          "model_module": "@jupyter-widgets/controls",
          "model_name": "FloatProgressModel",
          "model_module_version": "1.5.0",
          "state": {
            "_view_name": "ProgressView",
            "style": "IPY_MODEL_56841bc6131948e8bb1aea9555ee09ac",
            "_dom_classes": [],
            "description": "",
            "_model_name": "FloatProgressModel",
            "bar_style": "success",
            "max": 2780,
            "_view_module": "@jupyter-widgets/controls",
            "_model_module_version": "1.5.0",
            "value": 2780,
            "_view_count": null,
            "_view_module_version": "1.5.0",
            "orientation": "horizontal",
            "min": 0,
            "description_tooltip": null,
            "_model_module": "@jupyter-widgets/controls",
            "layout": "IPY_MODEL_a7eff802ac4c4e7298204df3492cba79"
          }
        },
        "016aebd74155460b828643de719b92ea": {
          "model_module": "@jupyter-widgets/controls",
          "model_name": "HTMLModel",
          "model_module_version": "1.5.0",
          "state": {
            "_view_name": "HTMLView",
            "style": "IPY_MODEL_cb101c699a9945c88a38cca4608a15ff",
            "_dom_classes": [],
            "description": "",
            "_model_name": "HTMLModel",
            "placeholder": "​",
            "_view_module": "@jupyter-widgets/controls",
            "_model_module_version": "1.5.0",
            "value": " 2780/2780 [00:18&lt;00:00, 143.83it/s]",
            "_view_count": null,
            "_view_module_version": "1.5.0",
            "description_tooltip": null,
            "_model_module": "@jupyter-widgets/controls",
            "layout": "IPY_MODEL_467c9982100f46bbbefc30fb9f3133a2"
          }
        },
        "c72c13a781624f3ab5b079d12e4b9c80": {
          "model_module": "@jupyter-widgets/controls",
          "model_name": "DescriptionStyleModel",
          "model_module_version": "1.5.0",
          "state": {
            "_view_name": "StyleView",
            "_model_name": "DescriptionStyleModel",
            "description_width": "",
            "_view_module": "@jupyter-widgets/base",
            "_model_module_version": "1.5.0",
            "_view_count": null,
            "_view_module_version": "1.2.0",
            "_model_module": "@jupyter-widgets/controls"
          }
        },
        "eeb37daa3db74f688b239ba2d8a5812f": {
          "model_module": "@jupyter-widgets/base",
          "model_name": "LayoutModel",
          "model_module_version": "1.2.0",
          "state": {
            "_view_name": "LayoutView",
            "grid_template_rows": null,
            "right": null,
            "justify_content": null,
            "_view_module": "@jupyter-widgets/base",
            "overflow": null,
            "_model_module_version": "1.2.0",
            "_view_count": null,
            "flex_flow": null,
            "width": null,
            "min_width": null,
            "border": null,
            "align_items": null,
            "bottom": null,
            "_model_module": "@jupyter-widgets/base",
            "top": null,
            "grid_column": null,
            "overflow_y": null,
            "overflow_x": null,
            "grid_auto_flow": null,
            "grid_area": null,
            "grid_template_columns": null,
            "flex": null,
            "_model_name": "LayoutModel",
            "justify_items": null,
            "grid_row": null,
            "max_height": null,
            "align_content": null,
            "visibility": null,
            "align_self": null,
            "height": null,
            "min_height": null,
            "padding": null,
            "grid_auto_rows": null,
            "grid_gap": null,
            "max_width": null,
            "order": null,
            "_view_module_version": "1.2.0",
            "grid_template_areas": null,
            "object_position": null,
            "object_fit": null,
            "grid_auto_columns": null,
            "margin": null,
            "display": null,
            "left": null
          }
        },
        "56841bc6131948e8bb1aea9555ee09ac": {
          "model_module": "@jupyter-widgets/controls",
          "model_name": "ProgressStyleModel",
          "model_module_version": "1.5.0",
          "state": {
            "_view_name": "StyleView",
            "_model_name": "ProgressStyleModel",
            "description_width": "",
            "_view_module": "@jupyter-widgets/base",
            "_model_module_version": "1.5.0",
            "_view_count": null,
            "_view_module_version": "1.2.0",
            "bar_color": null,
            "_model_module": "@jupyter-widgets/controls"
          }
        },
        "a7eff802ac4c4e7298204df3492cba79": {
          "model_module": "@jupyter-widgets/base",
          "model_name": "LayoutModel",
          "model_module_version": "1.2.0",
          "state": {
            "_view_name": "LayoutView",
            "grid_template_rows": null,
            "right": null,
            "justify_content": null,
            "_view_module": "@jupyter-widgets/base",
            "overflow": null,
            "_model_module_version": "1.2.0",
            "_view_count": null,
            "flex_flow": null,
            "width": null,
            "min_width": null,
            "border": null,
            "align_items": null,
            "bottom": null,
            "_model_module": "@jupyter-widgets/base",
            "top": null,
            "grid_column": null,
            "overflow_y": null,
            "overflow_x": null,
            "grid_auto_flow": null,
            "grid_area": null,
            "grid_template_columns": null,
            "flex": null,
            "_model_name": "LayoutModel",
            "justify_items": null,
            "grid_row": null,
            "max_height": null,
            "align_content": null,
            "visibility": null,
            "align_self": null,
            "height": null,
            "min_height": null,
            "padding": null,
            "grid_auto_rows": null,
            "grid_gap": null,
            "max_width": null,
            "order": null,
            "_view_module_version": "1.2.0",
            "grid_template_areas": null,
            "object_position": null,
            "object_fit": null,
            "grid_auto_columns": null,
            "margin": null,
            "display": null,
            "left": null
          }
        },
        "cb101c699a9945c88a38cca4608a15ff": {
          "model_module": "@jupyter-widgets/controls",
          "model_name": "DescriptionStyleModel",
          "model_module_version": "1.5.0",
          "state": {
            "_view_name": "StyleView",
            "_model_name": "DescriptionStyleModel",
            "description_width": "",
            "_view_module": "@jupyter-widgets/base",
            "_model_module_version": "1.5.0",
            "_view_count": null,
            "_view_module_version": "1.2.0",
            "_model_module": "@jupyter-widgets/controls"
          }
        },
        "467c9982100f46bbbefc30fb9f3133a2": {
          "model_module": "@jupyter-widgets/base",
          "model_name": "LayoutModel",
          "model_module_version": "1.2.0",
          "state": {
            "_view_name": "LayoutView",
            "grid_template_rows": null,
            "right": null,
            "justify_content": null,
            "_view_module": "@jupyter-widgets/base",
            "overflow": null,
            "_model_module_version": "1.2.0",
            "_view_count": null,
            "flex_flow": null,
            "width": null,
            "min_width": null,
            "border": null,
            "align_items": null,
            "bottom": null,
            "_model_module": "@jupyter-widgets/base",
            "top": null,
            "grid_column": null,
            "overflow_y": null,
            "overflow_x": null,
            "grid_auto_flow": null,
            "grid_area": null,
            "grid_template_columns": null,
            "flex": null,
            "_model_name": "LayoutModel",
            "justify_items": null,
            "grid_row": null,
            "max_height": null,
            "align_content": null,
            "visibility": null,
            "align_self": null,
            "height": null,
            "min_height": null,
            "padding": null,
            "grid_auto_rows": null,
            "grid_gap": null,
            "max_width": null,
            "order": null,
            "_view_module_version": "1.2.0",
            "grid_template_areas": null,
            "object_position": null,
            "object_fit": null,
            "grid_auto_columns": null,
            "margin": null,
            "display": null,
            "left": null
          }
        }
      }
    }
  },
  "cells": [
    {
      "cell_type": "markdown",
      "metadata": {
        "id": "view-in-github",
        "colab_type": "text"
      },
      "source": [
        "<a href=\"https://colab.research.google.com/github/aaaksenova/NLP-Homework/blob/main/Aksenova_NLP_hw1.ipynb\" target=\"_parent\"><img src=\"https://colab.research.google.com/assets/colab-badge.svg\" alt=\"Open In Colab\"/></a>"
      ]
    },
    {
      "cell_type": "markdown",
      "metadata": {
        "id": "zmsTzwWIEeeU"
      },
      "source": [
        "# Key Words Homework"
      ]
    },
    {
      "cell_type": "markdown",
      "metadata": {
        "id": "Gy1vgMd6Emut"
      },
      "source": [
        "To-do:\n",
        "\n",
        "* (1 балл) Подготовить мини-корпус (не меньше 4 текстов, \n",
        "примерный общий объём - 3-5 тысяч токенов) с разметкой ключевых слов. Предполагается, что вы найдете источник текстов, в котором уже выделены ключевые слова. Укажите источник корпуса и опишите, в каком виде там были представлены ключевые слова. **(DONE)**\n",
        "\n",
        "* (2 балла) Разметить ключевые слова самостоятельно. Оценить пересечение с имеющейся разметкой. Составить эталон разметки (например, пересечение или объединение вашей разметки и исходной). **(DONE)**\n",
        "\n",
        "* (2 балла) Применить к этому корпусу 3 метода извлечения ключевых слов на выбор (RAKE, TextRank, tf\\*idf, OKAPI BM25, ...) **(DONE)**\n",
        "\n",
        "* (2 балла) Составить морфологические/синтаксические шаблоны для ключевых слов и фраз, выделить соответствующие им подстроки из корпуса (например, именные группы Adj+Noun). Применить эти фильтры к спискам ключевых слов.\n",
        "\n",
        "* (2 балла) Оценить точность, полноту, F-меру выбранных методов относительно эталона: с учётом морфосинтаксических шаблонов и без них. **(DONE)**\n",
        "\n",
        "* (1 балл) Описать ошибки автоматического выделения ключевых слов (что выделяется лишнее, что не выделяется); предложить свои методы решения этих проблем. **(DONE)**\n",
        "\n",
        "\n"
      ]
    },
    {
      "cell_type": "code",
      "metadata": {
        "colab": {
          "base_uri": "https://localhost:8080/"
        },
        "id": "2JAaGAjw20w3",
        "outputId": "83fe432b-3406-434e-9e9c-91088113b1ce"
      },
      "source": [
        "! pip install spacy --upgrade\n",
        "! python -m spacy download ru_core_news_md\n",
        "! pip install python-rake\n",
        "! pip install summa\n",
        "! pip install sentence-transformers"
      ],
      "execution_count": 1,
      "outputs": [
        {
          "output_type": "stream",
          "name": "stdout",
          "text": [
            "Requirement already satisfied: spacy in /usr/local/lib/python3.7/dist-packages (2.2.4)\n",
            "Collecting spacy\n",
            "  Downloading spacy-3.2.0-cp37-cp37m-manylinux_2_17_x86_64.manylinux2014_x86_64.whl (6.0 MB)\n",
            "\u001b[K     |████████████████████████████████| 6.0 MB 6.4 MB/s \n",
            "\u001b[?25hRequirement already satisfied: packaging>=20.0 in /usr/local/lib/python3.7/dist-packages (from spacy) (21.0)\n",
            "Requirement already satisfied: murmurhash<1.1.0,>=0.28.0 in /usr/local/lib/python3.7/dist-packages (from spacy) (1.0.5)\n",
            "Collecting srsly<3.0.0,>=2.4.1\n",
            "  Downloading srsly-2.4.2-cp37-cp37m-manylinux_2_17_x86_64.manylinux2014_x86_64.whl (451 kB)\n",
            "\u001b[K     |████████████████████████████████| 451 kB 65.8 MB/s \n",
            "\u001b[?25hRequirement already satisfied: wasabi<1.1.0,>=0.8.1 in /usr/local/lib/python3.7/dist-packages (from spacy) (0.8.2)\n",
            "Requirement already satisfied: typing-extensions<4.0.0.0,>=3.7.4 in /usr/local/lib/python3.7/dist-packages (from spacy) (3.7.4.3)\n",
            "Requirement already satisfied: tqdm<5.0.0,>=4.38.0 in /usr/local/lib/python3.7/dist-packages (from spacy) (4.62.3)\n",
            "Collecting langcodes<4.0.0,>=3.2.0\n",
            "  Downloading langcodes-3.2.1.tar.gz (173 kB)\n",
            "\u001b[K     |████████████████████████████████| 173 kB 40.7 MB/s \n",
            "\u001b[?25hCollecting spacy-loggers<2.0.0,>=1.0.0\n",
            "  Downloading spacy_loggers-1.0.1-py3-none-any.whl (7.0 kB)\n",
            "Requirement already satisfied: cymem<2.1.0,>=2.0.2 in /usr/local/lib/python3.7/dist-packages (from spacy) (2.0.5)\n",
            "Collecting catalogue<2.1.0,>=2.0.6\n",
            "  Downloading catalogue-2.0.6-py3-none-any.whl (17 kB)\n",
            "Collecting pathy>=0.3.5\n",
            "  Downloading pathy-0.6.1-py3-none-any.whl (42 kB)\n",
            "\u001b[K     |████████████████████████████████| 42 kB 1.5 MB/s \n",
            "\u001b[?25hRequirement already satisfied: blis<0.8.0,>=0.4.0 in /usr/local/lib/python3.7/dist-packages (from spacy) (0.4.1)\n",
            "Collecting pydantic!=1.8,!=1.8.1,<1.9.0,>=1.7.4\n",
            "  Downloading pydantic-1.8.2-cp37-cp37m-manylinux2014_x86_64.whl (10.1 MB)\n",
            "\u001b[K     |████████████████████████████████| 10.1 MB 12.4 MB/s \n",
            "\u001b[?25hRequirement already satisfied: setuptools in /usr/local/lib/python3.7/dist-packages (from spacy) (57.4.0)\n",
            "Requirement already satisfied: jinja2 in /usr/local/lib/python3.7/dist-packages (from spacy) (2.11.3)\n",
            "Collecting thinc<8.1.0,>=8.0.12\n",
            "  Downloading thinc-8.0.13-cp37-cp37m-manylinux_2_17_x86_64.manylinux2014_x86_64.whl (628 kB)\n",
            "\u001b[K     |████████████████████████████████| 628 kB 69.8 MB/s \n",
            "\u001b[?25hRequirement already satisfied: requests<3.0.0,>=2.13.0 in /usr/local/lib/python3.7/dist-packages (from spacy) (2.23.0)\n",
            "Collecting spacy-legacy<3.1.0,>=3.0.8\n",
            "  Downloading spacy_legacy-3.0.8-py2.py3-none-any.whl (14 kB)\n",
            "Requirement already satisfied: preshed<3.1.0,>=3.0.2 in /usr/local/lib/python3.7/dist-packages (from spacy) (3.0.5)\n",
            "Requirement already satisfied: numpy>=1.15.0 in /usr/local/lib/python3.7/dist-packages (from spacy) (1.19.5)\n",
            "Collecting typer<0.5.0,>=0.3.0\n",
            "  Downloading typer-0.4.0-py3-none-any.whl (27 kB)\n",
            "Requirement already satisfied: zipp>=0.5 in /usr/local/lib/python3.7/dist-packages (from catalogue<2.1.0,>=2.0.6->spacy) (3.6.0)\n",
            "Requirement already satisfied: pyparsing>=2.0.2 in /usr/local/lib/python3.7/dist-packages (from packaging>=20.0->spacy) (2.4.7)\n",
            "Requirement already satisfied: smart-open<6.0.0,>=5.0.0 in /usr/local/lib/python3.7/dist-packages (from pathy>=0.3.5->spacy) (5.2.1)\n",
            "Requirement already satisfied: certifi>=2017.4.17 in /usr/local/lib/python3.7/dist-packages (from requests<3.0.0,>=2.13.0->spacy) (2021.5.30)\n",
            "Requirement already satisfied: chardet<4,>=3.0.2 in /usr/local/lib/python3.7/dist-packages (from requests<3.0.0,>=2.13.0->spacy) (3.0.4)\n",
            "Requirement already satisfied: idna<3,>=2.5 in /usr/local/lib/python3.7/dist-packages (from requests<3.0.0,>=2.13.0->spacy) (2.10)\n",
            "Requirement already satisfied: urllib3!=1.25.0,!=1.25.1,<1.26,>=1.21.1 in /usr/local/lib/python3.7/dist-packages (from requests<3.0.0,>=2.13.0->spacy) (1.24.3)\n",
            "Requirement already satisfied: click<9.0.0,>=7.1.1 in /usr/local/lib/python3.7/dist-packages (from typer<0.5.0,>=0.3.0->spacy) (7.1.2)\n",
            "Requirement already satisfied: MarkupSafe>=0.23 in /usr/local/lib/python3.7/dist-packages (from jinja2->spacy) (2.0.1)\n",
            "Building wheels for collected packages: langcodes\n",
            "  Building wheel for langcodes (setup.py) ... \u001b[?25l\u001b[?25hdone\n",
            "  Created wheel for langcodes: filename=langcodes-3.2.1-py3-none-any.whl size=169396 sha256=2dcf4f0dab5106aab9bee985c04cb6ec6857df4e22935a5491fe460a283e0e8e\n",
            "  Stored in directory: /root/.cache/pip/wheels/12/9c/b3/d42c928e622075d3b6056733125190086e44c9230878e6eb2b\n",
            "Successfully built langcodes\n",
            "Installing collected packages: catalogue, typer, srsly, pydantic, thinc, spacy-loggers, spacy-legacy, pathy, langcodes, spacy\n",
            "  Attempting uninstall: catalogue\n",
            "    Found existing installation: catalogue 1.0.0\n",
            "    Uninstalling catalogue-1.0.0:\n",
            "      Successfully uninstalled catalogue-1.0.0\n",
            "  Attempting uninstall: srsly\n",
            "    Found existing installation: srsly 1.0.5\n",
            "    Uninstalling srsly-1.0.5:\n",
            "      Successfully uninstalled srsly-1.0.5\n",
            "  Attempting uninstall: thinc\n",
            "    Found existing installation: thinc 7.4.0\n",
            "    Uninstalling thinc-7.4.0:\n",
            "      Successfully uninstalled thinc-7.4.0\n",
            "  Attempting uninstall: spacy\n",
            "    Found existing installation: spacy 2.2.4\n",
            "    Uninstalling spacy-2.2.4:\n",
            "      Successfully uninstalled spacy-2.2.4\n",
            "Successfully installed catalogue-2.0.6 langcodes-3.2.1 pathy-0.6.1 pydantic-1.8.2 spacy-3.2.0 spacy-legacy-3.0.8 spacy-loggers-1.0.1 srsly-2.4.2 thinc-8.0.13 typer-0.4.0\n",
            "Collecting ru-core-news-md==3.2.0\n",
            "  Downloading https://github.com/explosion/spacy-models/releases/download/ru_core_news_md-3.2.0/ru_core_news_md-3.2.0-py3-none-any.whl (43.0 MB)\n",
            "\u001b[K     |████████████████████████████████| 43.0 MB 8.7 kB/s \n",
            "\u001b[?25hCollecting pymorphy2>=0.9\n",
            "  Downloading pymorphy2-0.9.1-py3-none-any.whl (55 kB)\n",
            "\u001b[K     |████████████████████████████████| 55 kB 2.6 MB/s \n",
            "\u001b[?25hRequirement already satisfied: spacy<3.3.0,>=3.2.0 in /usr/local/lib/python3.7/dist-packages (from ru-core-news-md==3.2.0) (3.2.0)\n",
            "Requirement already satisfied: docopt>=0.6 in /usr/local/lib/python3.7/dist-packages (from pymorphy2>=0.9->ru-core-news-md==3.2.0) (0.6.2)\n",
            "Collecting pymorphy2-dicts-ru<3.0,>=2.4\n",
            "  Downloading pymorphy2_dicts_ru-2.4.417127.4579844-py2.py3-none-any.whl (8.2 MB)\n",
            "\u001b[K     |████████████████████████████████| 8.2 MB 9.7 MB/s \n",
            "\u001b[?25hCollecting dawg-python>=0.7.1\n",
            "  Downloading DAWG_Python-0.7.2-py2.py3-none-any.whl (11 kB)\n",
            "Requirement already satisfied: packaging>=20.0 in /usr/local/lib/python3.7/dist-packages (from spacy<3.3.0,>=3.2.0->ru-core-news-md==3.2.0) (21.0)\n",
            "Requirement already satisfied: cymem<2.1.0,>=2.0.2 in /usr/local/lib/python3.7/dist-packages (from spacy<3.3.0,>=3.2.0->ru-core-news-md==3.2.0) (2.0.5)\n",
            "Requirement already satisfied: pydantic!=1.8,!=1.8.1,<1.9.0,>=1.7.4 in /usr/local/lib/python3.7/dist-packages (from spacy<3.3.0,>=3.2.0->ru-core-news-md==3.2.0) (1.8.2)\n",
            "Requirement already satisfied: typer<0.5.0,>=0.3.0 in /usr/local/lib/python3.7/dist-packages (from spacy<3.3.0,>=3.2.0->ru-core-news-md==3.2.0) (0.4.0)\n",
            "Requirement already satisfied: spacy-loggers<2.0.0,>=1.0.0 in /usr/local/lib/python3.7/dist-packages (from spacy<3.3.0,>=3.2.0->ru-core-news-md==3.2.0) (1.0.1)\n",
            "Requirement already satisfied: requests<3.0.0,>=2.13.0 in /usr/local/lib/python3.7/dist-packages (from spacy<3.3.0,>=3.2.0->ru-core-news-md==3.2.0) (2.23.0)\n",
            "Requirement already satisfied: spacy-legacy<3.1.0,>=3.0.8 in /usr/local/lib/python3.7/dist-packages (from spacy<3.3.0,>=3.2.0->ru-core-news-md==3.2.0) (3.0.8)\n",
            "Requirement already satisfied: numpy>=1.15.0 in /usr/local/lib/python3.7/dist-packages (from spacy<3.3.0,>=3.2.0->ru-core-news-md==3.2.0) (1.19.5)\n",
            "Requirement already satisfied: thinc<8.1.0,>=8.0.12 in /usr/local/lib/python3.7/dist-packages (from spacy<3.3.0,>=3.2.0->ru-core-news-md==3.2.0) (8.0.13)\n",
            "Requirement already satisfied: langcodes<4.0.0,>=3.2.0 in /usr/local/lib/python3.7/dist-packages (from spacy<3.3.0,>=3.2.0->ru-core-news-md==3.2.0) (3.2.1)\n",
            "Requirement already satisfied: pathy>=0.3.5 in /usr/local/lib/python3.7/dist-packages (from spacy<3.3.0,>=3.2.0->ru-core-news-md==3.2.0) (0.6.1)\n",
            "Requirement already satisfied: catalogue<2.1.0,>=2.0.6 in /usr/local/lib/python3.7/dist-packages (from spacy<3.3.0,>=3.2.0->ru-core-news-md==3.2.0) (2.0.6)\n",
            "Requirement already satisfied: typing-extensions<4.0.0.0,>=3.7.4 in /usr/local/lib/python3.7/dist-packages (from spacy<3.3.0,>=3.2.0->ru-core-news-md==3.2.0) (3.7.4.3)\n",
            "Requirement already satisfied: preshed<3.1.0,>=3.0.2 in /usr/local/lib/python3.7/dist-packages (from spacy<3.3.0,>=3.2.0->ru-core-news-md==3.2.0) (3.0.5)\n",
            "Requirement already satisfied: tqdm<5.0.0,>=4.38.0 in /usr/local/lib/python3.7/dist-packages (from spacy<3.3.0,>=3.2.0->ru-core-news-md==3.2.0) (4.62.3)\n",
            "Requirement already satisfied: blis<0.8.0,>=0.4.0 in /usr/local/lib/python3.7/dist-packages (from spacy<3.3.0,>=3.2.0->ru-core-news-md==3.2.0) (0.4.1)\n",
            "Requirement already satisfied: wasabi<1.1.0,>=0.8.1 in /usr/local/lib/python3.7/dist-packages (from spacy<3.3.0,>=3.2.0->ru-core-news-md==3.2.0) (0.8.2)\n",
            "Requirement already satisfied: jinja2 in /usr/local/lib/python3.7/dist-packages (from spacy<3.3.0,>=3.2.0->ru-core-news-md==3.2.0) (2.11.3)\n",
            "Requirement already satisfied: setuptools in /usr/local/lib/python3.7/dist-packages (from spacy<3.3.0,>=3.2.0->ru-core-news-md==3.2.0) (57.4.0)\n",
            "Requirement already satisfied: murmurhash<1.1.0,>=0.28.0 in /usr/local/lib/python3.7/dist-packages (from spacy<3.3.0,>=3.2.0->ru-core-news-md==3.2.0) (1.0.5)\n",
            "Requirement already satisfied: srsly<3.0.0,>=2.4.1 in /usr/local/lib/python3.7/dist-packages (from spacy<3.3.0,>=3.2.0->ru-core-news-md==3.2.0) (2.4.2)\n",
            "Requirement already satisfied: zipp>=0.5 in /usr/local/lib/python3.7/dist-packages (from catalogue<2.1.0,>=2.0.6->spacy<3.3.0,>=3.2.0->ru-core-news-md==3.2.0) (3.6.0)\n",
            "Requirement already satisfied: pyparsing>=2.0.2 in /usr/local/lib/python3.7/dist-packages (from packaging>=20.0->spacy<3.3.0,>=3.2.0->ru-core-news-md==3.2.0) (2.4.7)\n",
            "Requirement already satisfied: smart-open<6.0.0,>=5.0.0 in /usr/local/lib/python3.7/dist-packages (from pathy>=0.3.5->spacy<3.3.0,>=3.2.0->ru-core-news-md==3.2.0) (5.2.1)\n",
            "Requirement already satisfied: certifi>=2017.4.17 in /usr/local/lib/python3.7/dist-packages (from requests<3.0.0,>=2.13.0->spacy<3.3.0,>=3.2.0->ru-core-news-md==3.2.0) (2021.5.30)\n",
            "Requirement already satisfied: urllib3!=1.25.0,!=1.25.1,<1.26,>=1.21.1 in /usr/local/lib/python3.7/dist-packages (from requests<3.0.0,>=2.13.0->spacy<3.3.0,>=3.2.0->ru-core-news-md==3.2.0) (1.24.3)\n",
            "Requirement already satisfied: idna<3,>=2.5 in /usr/local/lib/python3.7/dist-packages (from requests<3.0.0,>=2.13.0->spacy<3.3.0,>=3.2.0->ru-core-news-md==3.2.0) (2.10)\n",
            "Requirement already satisfied: chardet<4,>=3.0.2 in /usr/local/lib/python3.7/dist-packages (from requests<3.0.0,>=2.13.0->spacy<3.3.0,>=3.2.0->ru-core-news-md==3.2.0) (3.0.4)\n",
            "Requirement already satisfied: click<9.0.0,>=7.1.1 in /usr/local/lib/python3.7/dist-packages (from typer<0.5.0,>=0.3.0->spacy<3.3.0,>=3.2.0->ru-core-news-md==3.2.0) (7.1.2)\n",
            "Requirement already satisfied: MarkupSafe>=0.23 in /usr/local/lib/python3.7/dist-packages (from jinja2->spacy<3.3.0,>=3.2.0->ru-core-news-md==3.2.0) (2.0.1)\n",
            "Installing collected packages: pymorphy2-dicts-ru, dawg-python, pymorphy2, ru-core-news-md\n",
            "Successfully installed dawg-python-0.7.2 pymorphy2-0.9.1 pymorphy2-dicts-ru-2.4.417127.4579844 ru-core-news-md-3.2.0\n",
            "\u001b[38;5;2m✔ Download and installation successful\u001b[0m\n",
            "You can now load the package via spacy.load('ru_core_news_md')\n",
            "Collecting python-rake\n",
            "  Downloading python_rake-1.5.0-py3-none-any.whl (14 kB)\n",
            "Installing collected packages: python-rake\n",
            "Successfully installed python-rake-1.5.0\n",
            "Collecting summa\n",
            "  Downloading summa-1.2.0.tar.gz (54 kB)\n",
            "\u001b[K     |████████████████████████████████| 54 kB 2.3 MB/s \n",
            "\u001b[?25hRequirement already satisfied: scipy>=0.19 in /usr/local/lib/python3.7/dist-packages (from summa) (1.4.1)\n",
            "Requirement already satisfied: numpy>=1.13.3 in /usr/local/lib/python3.7/dist-packages (from scipy>=0.19->summa) (1.19.5)\n",
            "Building wheels for collected packages: summa\n",
            "  Building wheel for summa (setup.py) ... \u001b[?25l\u001b[?25hdone\n",
            "  Created wheel for summa: filename=summa-1.2.0-py3-none-any.whl size=54410 sha256=64d9ba5b2c04483226cf83dbd277e659b297372716c61f265dfc4689be29bd58\n",
            "  Stored in directory: /root/.cache/pip/wheels/29/64/ac/7b443477588d365ef37ada30d456bdf5f07dc5be9f6324cb6e\n",
            "Successfully built summa\n",
            "Installing collected packages: summa\n",
            "Successfully installed summa-1.2.0\n",
            "Collecting sentence-transformers\n",
            "  Downloading sentence-transformers-2.1.0.tar.gz (78 kB)\n",
            "\u001b[K     |████████████████████████████████| 78 kB 4.3 MB/s \n",
            "\u001b[?25hCollecting transformers<5.0.0,>=4.6.0\n",
            "  Downloading transformers-4.12.3-py3-none-any.whl (3.1 MB)\n",
            "\u001b[K     |████████████████████████████████| 3.1 MB 16.6 MB/s \n",
            "\u001b[?25hCollecting tokenizers>=0.10.3\n",
            "  Downloading tokenizers-0.10.3-cp37-cp37m-manylinux_2_5_x86_64.manylinux1_x86_64.manylinux_2_12_x86_64.manylinux2010_x86_64.whl (3.3 MB)\n",
            "\u001b[K     |████████████████████████████████| 3.3 MB 46.5 MB/s \n",
            "\u001b[?25hRequirement already satisfied: tqdm in /usr/local/lib/python3.7/dist-packages (from sentence-transformers) (4.62.3)\n",
            "Requirement already satisfied: torch>=1.6.0 in /usr/local/lib/python3.7/dist-packages (from sentence-transformers) (1.9.0+cu111)\n",
            "Requirement already satisfied: torchvision in /usr/local/lib/python3.7/dist-packages (from sentence-transformers) (0.10.0+cu111)\n",
            "Requirement already satisfied: numpy in /usr/local/lib/python3.7/dist-packages (from sentence-transformers) (1.19.5)\n",
            "Requirement already satisfied: scikit-learn in /usr/local/lib/python3.7/dist-packages (from sentence-transformers) (0.22.2.post1)\n",
            "Requirement already satisfied: scipy in /usr/local/lib/python3.7/dist-packages (from sentence-transformers) (1.4.1)\n",
            "Requirement already satisfied: nltk in /usr/local/lib/python3.7/dist-packages (from sentence-transformers) (3.2.5)\n",
            "Collecting sentencepiece\n",
            "  Downloading sentencepiece-0.1.96-cp37-cp37m-manylinux_2_17_x86_64.manylinux2014_x86_64.whl (1.2 MB)\n",
            "\u001b[K     |████████████████████████████████| 1.2 MB 42.9 MB/s \n",
            "\u001b[?25hCollecting huggingface-hub\n",
            "  Downloading huggingface_hub-0.1.1-py3-none-any.whl (59 kB)\n",
            "\u001b[K     |████████████████████████████████| 59 kB 7.6 MB/s \n",
            "\u001b[?25hRequirement already satisfied: typing-extensions in /usr/local/lib/python3.7/dist-packages (from torch>=1.6.0->sentence-transformers) (3.7.4.3)\n",
            "Requirement already satisfied: regex!=2019.12.17 in /usr/local/lib/python3.7/dist-packages (from transformers<5.0.0,>=4.6.0->sentence-transformers) (2019.12.20)\n",
            "Collecting sacremoses\n",
            "  Downloading sacremoses-0.0.46-py3-none-any.whl (895 kB)\n",
            "\u001b[K     |████████████████████████████████| 895 kB 49.5 MB/s \n",
            "\u001b[?25hRequirement already satisfied: filelock in /usr/local/lib/python3.7/dist-packages (from transformers<5.0.0,>=4.6.0->sentence-transformers) (3.3.0)\n",
            "Requirement already satisfied: packaging>=20.0 in /usr/local/lib/python3.7/dist-packages (from transformers<5.0.0,>=4.6.0->sentence-transformers) (21.0)\n",
            "Collecting pyyaml>=5.1\n",
            "  Downloading PyYAML-6.0-cp37-cp37m-manylinux_2_5_x86_64.manylinux1_x86_64.manylinux_2_12_x86_64.manylinux2010_x86_64.whl (596 kB)\n",
            "\u001b[K     |████████████████████████████████| 596 kB 46.1 MB/s \n",
            "\u001b[?25hRequirement already satisfied: importlib-metadata in /usr/local/lib/python3.7/dist-packages (from transformers<5.0.0,>=4.6.0->sentence-transformers) (4.8.1)\n",
            "Requirement already satisfied: requests in /usr/local/lib/python3.7/dist-packages (from transformers<5.0.0,>=4.6.0->sentence-transformers) (2.23.0)\n",
            "Requirement already satisfied: pyparsing>=2.0.2 in /usr/local/lib/python3.7/dist-packages (from packaging>=20.0->transformers<5.0.0,>=4.6.0->sentence-transformers) (2.4.7)\n",
            "Requirement already satisfied: zipp>=0.5 in /usr/local/lib/python3.7/dist-packages (from importlib-metadata->transformers<5.0.0,>=4.6.0->sentence-transformers) (3.6.0)\n",
            "Requirement already satisfied: six in /usr/local/lib/python3.7/dist-packages (from nltk->sentence-transformers) (1.15.0)\n",
            "Requirement already satisfied: urllib3!=1.25.0,!=1.25.1,<1.26,>=1.21.1 in /usr/local/lib/python3.7/dist-packages (from requests->transformers<5.0.0,>=4.6.0->sentence-transformers) (1.24.3)\n",
            "Requirement already satisfied: chardet<4,>=3.0.2 in /usr/local/lib/python3.7/dist-packages (from requests->transformers<5.0.0,>=4.6.0->sentence-transformers) (3.0.4)\n",
            "Requirement already satisfied: idna<3,>=2.5 in /usr/local/lib/python3.7/dist-packages (from requests->transformers<5.0.0,>=4.6.0->sentence-transformers) (2.10)\n",
            "Requirement already satisfied: certifi>=2017.4.17 in /usr/local/lib/python3.7/dist-packages (from requests->transformers<5.0.0,>=4.6.0->sentence-transformers) (2021.5.30)\n",
            "Requirement already satisfied: click in /usr/local/lib/python3.7/dist-packages (from sacremoses->transformers<5.0.0,>=4.6.0->sentence-transformers) (7.1.2)\n",
            "Requirement already satisfied: joblib in /usr/local/lib/python3.7/dist-packages (from sacremoses->transformers<5.0.0,>=4.6.0->sentence-transformers) (1.0.1)\n",
            "Requirement already satisfied: pillow>=5.3.0 in /usr/local/lib/python3.7/dist-packages (from torchvision->sentence-transformers) (7.1.2)\n",
            "Building wheels for collected packages: sentence-transformers\n",
            "  Building wheel for sentence-transformers (setup.py) ... \u001b[?25l\u001b[?25hdone\n",
            "  Created wheel for sentence-transformers: filename=sentence_transformers-2.1.0-py3-none-any.whl size=121000 sha256=27fad015077cef59294d530a885a93197de168be2962afabe7dcbd7e5f689cd9\n",
            "  Stored in directory: /root/.cache/pip/wheels/90/f0/bb/ed1add84da70092ea526466eadc2bfb197c4bcb8d4fa5f7bad\n",
            "Successfully built sentence-transformers\n",
            "Installing collected packages: pyyaml, tokenizers, sacremoses, huggingface-hub, transformers, sentencepiece, sentence-transformers\n",
            "  Attempting uninstall: pyyaml\n",
            "    Found existing installation: PyYAML 3.13\n",
            "    Uninstalling PyYAML-3.13:\n",
            "      Successfully uninstalled PyYAML-3.13\n",
            "Successfully installed huggingface-hub-0.1.1 pyyaml-6.0 sacremoses-0.0.46 sentence-transformers-2.1.0 sentencepiece-0.1.96 tokenizers-0.10.3 transformers-4.12.3\n"
          ]
        }
      ]
    },
    {
      "cell_type": "code",
      "metadata": {
        "colab": {
          "base_uri": "https://localhost:8080/",
          "height": 154,
          "referenced_widgets": [
            "d637a6b78eba4d38a1a9ab475237a57d",
            "77deeaa174d3431f837293ef9b91f306",
            "59a66834d514451797e13e9e1a7613c7",
            "3d1c32b370dc4d4abfd1766ef2ea0f26",
            "b1cc387523204c93a9bd6db278b89ee0",
            "e76a7f1ded444f91b2622ea6d685ed50",
            "d7d4fb711b034bb9bbbd0a71a76fa6bf",
            "eb87763944d641559f2bb4b54ca169d2",
            "96a8cc0854d446c9a10c56a86b4fbd82",
            "8b3a053e108445ebb1c8478f9e87d519",
            "fef045e23e8d42ae89979f5353c75f3f"
          ]
        },
        "id": "YMCGVL1wJULu",
        "outputId": "7414ebd2-b7c8-4f18-b52d-8ade51a9c1c4"
      },
      "source": [
        "import nltk\n",
        "nltk.download('stopwords')\n",
        "from nltk.corpus import stopwords\n",
        "import spacy\n",
        "import re\n",
        "import pandas as pd\n",
        "import seaborn as sns\n",
        "import RAKE\n",
        "from summa import keywords\n",
        "from sklearn.feature_extraction.text import CountVectorizer\n",
        "from sentence_transformers import SentenceTransformer\n",
        "from sklearn.metrics.pairwise import cosine_similarity\n",
        "from sklearn.metrics import precision_recall_fscore_support\n",
        "from tqdm import tqdm_notebook\n",
        "from tqdm.auto import tqdm\n",
        "tqdm_notebook().pandas()"
      ],
      "execution_count": 2,
      "outputs": [
        {
          "output_type": "stream",
          "name": "stdout",
          "text": [
            "[nltk_data] Downloading package stopwords to /root/nltk_data...\n",
            "[nltk_data]   Unzipping corpora/stopwords.zip.\n"
          ]
        },
        {
          "output_type": "stream",
          "name": "stderr",
          "text": [
            "/usr/local/lib/python3.7/dist-packages/ipykernel_launcher.py:16: TqdmDeprecationWarning: This function will be removed in tqdm==5.0.0\n",
            "Please use `tqdm.notebook.tqdm` instead of `tqdm.tqdm_notebook`\n",
            "  app.launch_new_instance()\n"
          ]
        },
        {
          "output_type": "display_data",
          "data": {
            "application/vnd.jupyter.widget-view+json": {
              "model_id": "d637a6b78eba4d38a1a9ab475237a57d",
              "version_minor": 0,
              "version_major": 2
            },
            "text/plain": [
              "0it [00:00, ?it/s]"
            ]
          },
          "metadata": {}
        }
      ]
    },
    {
      "cell_type": "markdown",
      "metadata": {
        "id": "GaJH2EyjFgLv"
      },
      "source": [
        "## Corpus Creation"
      ]
    },
    {
      "cell_type": "markdown",
      "metadata": {
        "id": "G7LB4rtA2TRd"
      },
      "source": [
        "Я использую тексты статей из черновика сборника статей по русской грамматике \"Язык и метод\" 2021. К сожалению, его пока нет в открытом доступе, поэтому ссылку дать не могу. Я выбрала 4 статьи, в т.ч. и свою. В каждой статье окого 3000 токенов и 5-7 ключевых слов."
      ]
    },
    {
      "cell_type": "code",
      "metadata": {
        "id": "zJaxSVLcopvB"
      },
      "source": [
        "with open('key_papers.txt') as fh:\n",
        "    fil = fh.read(\n",
        "papers = fil.split('Литература\\n')[2:]"
      ],
      "execution_count": null,
      "outputs": []
    },
    {
      "cell_type": "code",
      "metadata": {
        "id": "na-VZMrR9A3e"
      },
      "source": [
        "key_to_paper = [(i.split('Ключевые слова: ')[1].split('Key words:')[0], \n",
        "                 i.split('Ключевые слова: ')[1].split('Key words:')[1]) for i in papers[:-1]]"
      ],
      "execution_count": null,
      "outputs": []
    },
    {
      "cell_type": "code",
      "metadata": {
        "id": "HBXF0K4W9526"
      },
      "source": [
        "key_words = []\n",
        "cleaned_papers = []\n",
        "for key, paper in key_to_paper:\n",
        "    key = key.strip().strip('.').replace('-\\n', '').replace('\\n', ' ')\n",
        "    key_words.append([k for k in key.split(', ')])\n",
        "    paper = re.sub(r'\\[.+?\\]', '', paper, flags=re.DOTALL)  # Так убираем ссылки на другие статьи\n",
        "    paper = re.sub(r'\\(.+?\\)', '', paper, flags=re.DOTALL)  # Так убираем ссылки на источники примеров\n",
        "    paper = re.sub(r'[A-Za-z,;1234567890]', '', paper)  # Убираем цифры и английский абстракт с ключевыми словами\n",
        "    paper = paper.replace('\\n', ' ')\n",
        "    cleaned_papers.append(paper)"
      ],
      "execution_count": null,
      "outputs": []
    },
    {
      "cell_type": "code",
      "metadata": {
        "id": "esnEZhjg_-Cm"
      },
      "source": [
        "df = pd.DataFrame({'key_words' : [', '.join(key) for key in key_words], \n",
        "                   'papers' : cleaned_papers})"
      ],
      "execution_count": null,
      "outputs": []
    },
    {
      "cell_type": "code",
      "metadata": {
        "id": "8ZfF-YXwB5zk"
      },
      "source": [
        "df = df.iloc[16:20]  # Выбираем 4 статьи\n",
        "df.to_csv('keyword_data.csv', sep='\\t')"
      ],
      "execution_count": null,
      "outputs": []
    },
    {
      "cell_type": "markdown",
      "metadata": {
        "id": "1VjXAwBRFkqk"
      },
      "source": [
        "## Keywords Manual Annotation"
      ]
    },
    {
      "cell_type": "markdown",
      "metadata": {
        "id": "dlE_Cc8AKNJ1"
      },
      "source": [
        "Я составляла свою разметку на основе ключевых слов, которые были предложены авторами. Из основных систематических изменений были следующие:\n",
        "\n",
        "1. Добавлены аббревиатуры. Часто авторы вводят аббревиатуру в начале статьи и дальше используют только ее, а в ключевых словах указана полная форма (совершенный вид - СВ)\n",
        "\n",
        "2. Все ключевые слова приведены к начальной форме: глаголы –> глагол\n",
        "\n",
        "3. Некоторые ключевые слова объединяли два концепта, я их разделила (сложное и простое предложение –> сложное предложение, простое предложение)\n",
        "\n",
        "Также добавила или убрала несколько, но большую часть слов оставила без изменений."
      ]
    },
    {
      "cell_type": "markdown",
      "metadata": {
        "id": "f_VrJOcQFsSG"
      },
      "source": [
        "## Automated keyword extraction"
      ]
    },
    {
      "cell_type": "code",
      "metadata": {
        "id": "QQusQ52DHJYg"
      },
      "source": [
        "df = pd.read_csv('keyword_data.csv', sep='\\t') # В этом файле уже исправленные мною ключевые слова\n",
        "df.drop(['Unnamed: 0'], axis=1, inplace=True)"
      ],
      "execution_count": 61,
      "outputs": []
    },
    {
      "cell_type": "code",
      "metadata": {
        "id": "D01drNsuIbRt"
      },
      "source": [
        "model = spacy.load('ru_core_news_md')\n",
        "\n",
        "\n",
        "def preprocess(text, model):\n",
        "\n",
        "    docum = model(text)\n",
        "    words = ' '.join([w.lemma_ for w in docum if w.lemma_.isalpha()])\n",
        "    return words"
      ],
      "execution_count": 62,
      "outputs": []
    },
    {
      "cell_type": "markdown",
      "metadata": {
        "id": "ymbFutcx3bbP"
      },
      "source": [
        "Лемматизируем тексты и ключевые слова, посчитаем сколько ключевых слов у каждого текста"
      ]
    },
    {
      "cell_type": "code",
      "metadata": {
        "id": "maZQRzo0KRTC"
      },
      "source": [
        "df['prep_texts'] = df.papers.apply(lambda x: preprocess(x, model))\n",
        "df['prep_kw'] = df.key_words.apply(lambda x: ', '.join([preprocess(i, model) for i in x.split(', ')]))\n",
        "df['key_count'] = df.key_words.apply(lambda x: len(x.split(', ')))"
      ],
      "execution_count": 63,
      "outputs": []
    },
    {
      "cell_type": "code",
      "metadata": {
        "id": "n3Xy7-X8LmYu",
        "colab": {
          "base_uri": "https://localhost:8080/",
          "height": 241
        },
        "outputId": "6d607436-778f-485e-c36e-4d654380a8ab"
      },
      "source": [
        "df"
      ],
      "execution_count": 64,
      "outputs": [
        {
          "output_type": "execute_result",
          "data": {
            "text/html": [
              "<div>\n",
              "<style scoped>\n",
              "    .dataframe tbody tr th:only-of-type {\n",
              "        vertical-align: middle;\n",
              "    }\n",
              "\n",
              "    .dataframe tbody tr th {\n",
              "        vertical-align: top;\n",
              "    }\n",
              "\n",
              "    .dataframe thead th {\n",
              "        text-align: right;\n",
              "    }\n",
              "</style>\n",
              "<table border=\"1\" class=\"dataframe\">\n",
              "  <thead>\n",
              "    <tr style=\"text-align: right;\">\n",
              "      <th></th>\n",
              "      <th>key_words</th>\n",
              "      <th>papers</th>\n",
              "      <th>prep_texts</th>\n",
              "      <th>prep_kw</th>\n",
              "      <th>key_count</th>\n",
              "    </tr>\n",
              "  </thead>\n",
              "  <tbody>\n",
              "    <tr>\n",
              "      <th>0</th>\n",
              "      <td>пунктуация, коннектор, союз, аппозитивная конс...</td>\n",
              "      <td>.                ’.                 ...</td>\n",
              "      <td>введение работа посвятить современный особенно...</td>\n",
              "      <td>пунктуация, коннектор, союз, аппозитивный конс...</td>\n",
              "      <td>10</td>\n",
              "    </tr>\n",
              "    <tr>\n",
              "      <th>1</th>\n",
              "      <td>глагол, св, структура ситуации, широкий контек...</td>\n",
              "      <td>.                          ....</td>\n",
              "      <td>исследование выполнить при финансовый поддержк...</td>\n",
              "      <td>глагол, св, структура ситуация, широкий контек...</td>\n",
              "      <td>11</td>\n",
              "    </tr>\n",
              "    <tr>\n",
              "      <th>2</th>\n",
              "      <td>синоним, глагол, пунктуация, синтаксис, орфогр...</td>\n",
              "      <td>.                          .             ...</td>\n",
              "      <td>повтор синоним повтор синоним многогранный явл...</td>\n",
              "      <td>синоним, глагол, пунктуация, синтаксис, орфогр...</td>\n",
              "      <td>7</td>\n",
              "    </tr>\n",
              "    <tr>\n",
              "      <th>3</th>\n",
              "      <td>предикативный атрибут, па, вторичный предикат,...</td>\n",
              "      <td>.                           .             ...</td>\n",
              "      <td>введение усталый но довольный пионер вернуться...</td>\n",
              "      <td>предикативный атрибут, па, вторичный предикат,...</td>\n",
              "      <td>6</td>\n",
              "    </tr>\n",
              "  </tbody>\n",
              "</table>\n",
              "</div>"
            ],
            "text/plain": [
              "                                           key_words  ... key_count\n",
              "0  пунктуация, коннектор, союз, аппозитивная конс...  ...        10\n",
              "1  глагол, св, структура ситуации, широкий контек...  ...        11\n",
              "2  синоним, глагол, пунктуация, синтаксис, орфогр...  ...         7\n",
              "3  предикативный атрибут, па, вторичный предикат,...  ...         6\n",
              "\n",
              "[4 rows x 5 columns]"
            ]
          },
          "metadata": {},
          "execution_count": 64
        }
      ]
    },
    {
      "cell_type": "markdown",
      "metadata": {
        "id": "D_4QbPc75LB2"
      },
      "source": [
        "Я фиксирую число ключевых слов, извлекаемое для каждого текста, чтобы дальше считать метрики классификации выбранным способом."
      ]
    },
    {
      "cell_type": "markdown",
      "metadata": {
        "id": "qhXRNYPANu7L"
      },
      "source": [
        "### Rake"
      ]
    },
    {
      "cell_type": "markdown",
      "metadata": {
        "id": "4uCbZ17234Z6"
      },
      "source": [
        "Извлечем ключевые слова с помощью RAKE для лемматизированного и сырого текстов"
      ]
    },
    {
      "cell_type": "code",
      "metadata": {
        "id": "4o9trTJ1L1XH"
      },
      "source": [
        "# Следуя ноутбуку с семинара, добавим слово который и его формы, потомук что spacy иногда его не лемматизирует\n",
        "stop = stopwords.words('russian') + ['которого',\n",
        "                                      'которое',\n",
        "                                      'которой',\n",
        "                                      'котором',\n",
        "                                      'которую',\n",
        "                                      'которые',\n",
        "                                      'который',\n",
        "                                      'которых']"
      ],
      "execution_count": 65,
      "outputs": []
    },
    {
      "cell_type": "code",
      "metadata": {
        "id": "GTeVCt11L4aH"
      },
      "source": [
        "rake = RAKE.Rake(stop)"
      ],
      "execution_count": 66,
      "outputs": []
    },
    {
      "cell_type": "code",
      "metadata": {
        "id": "EfId2nzby3Fu"
      },
      "source": [
        "def kw_rake(text, count, rake):\n",
        "    kw = rake.run(text, maxWords=2, minFrequency=3) # В наших ключевых словах встречаются только униграммы и биграммы\n",
        "    kw = [k[0] for k in kw]\n",
        "    return ', '.join(kw[:count])"
      ],
      "execution_count": 67,
      "outputs": []
    },
    {
      "cell_type": "code",
      "metadata": {
        "id": "a4M1CSqtL4df"
      },
      "source": [
        "df['rake_raw'] = df.apply(lambda x: kw_rake(x['papers'], x['key_count'], rake), axis=1)\n",
        "df['rake_prep'] = df.apply(lambda x: kw_rake(x['prep_texts'], x['key_count'], rake), axis=1)"
      ],
      "execution_count": 68,
      "outputs": []
    },
    {
      "cell_type": "markdown",
      "metadata": {
        "id": "OW1OeK64NxJU"
      },
      "source": [
        "### TextRank"
      ]
    },
    {
      "cell_type": "code",
      "metadata": {
        "id": "cNEd11PVN3_o"
      },
      "source": [
        "def kw_textrank(text, count):\n",
        "    kw = keywords.keywords(text, language='russian', additional_stopwords=stop, scores=True)[:10]\n",
        "    return ', '.join([k[0] for k in kw])"
      ],
      "execution_count": 69,
      "outputs": []
    },
    {
      "cell_type": "code",
      "metadata": {
        "id": "m6YdRcSk0Wg0"
      },
      "source": [
        "df['textrank'] = df.apply(lambda x: kw_textrank(x['prep_texts'], x['key_count']), axis=1)"
      ],
      "execution_count": 70,
      "outputs": []
    },
    {
      "cell_type": "markdown",
      "metadata": {
        "id": "jP7EIn5aREDc"
      },
      "source": [
        "### Embedding-based"
      ]
    },
    {
      "cell_type": "markdown",
      "metadata": {
        "id": "OHwOaIpE4DJ5"
      },
      "source": [
        "В качестве третьего метода возьмем эмбеддинги. Я нашла код в интернете и заменила модель на LaBSE, потому что она хорошо справляется с русским (судя по моей курсовой работе прошлого года и статьям по пробингу).\n",
        "\n",
        "Выделим все возможные униграммы и биграммы (кандидаты) с помощью CountVectorizer. Посчитаем косинусную близость между кандидатами и текстом, отсортируем и вынем нужное число кандидатов."
      ]
    },
    {
      "cell_type": "markdown",
      "metadata": {
        "id": "-3juJdstRHeP"
      },
      "source": [
        "Based on: https://towardsdatascience.com/keyword-extraction-with-bert-724efca412ea "
      ]
    },
    {
      "cell_type": "code",
      "metadata": {
        "id": "QL_E09Zj1dKs"
      },
      "source": [
        "ST = SentenceTransformer('sentence-transformers/LaBSE')"
      ],
      "execution_count": 71,
      "outputs": []
    },
    {
      "cell_type": "code",
      "metadata": {
        "id": "vFPQ5WG5N4J8"
      },
      "source": [
        "def kw_embeddings(text, model, top_n):\n",
        "    n_gram_range = (1, 2)\n",
        "    count = CountVectorizer(ngram_range=n_gram_range, stop_words=stop).fit([text])\n",
        "    candidates = count.get_feature_names()\n",
        "    doc_embedding = model.encode([text])\n",
        "    candidate_embeddings = model.encode(candidates)\n",
        "    distances = cosine_similarity(doc_embedding, candidate_embeddings)\n",
        "    keywords = [candidates[index] for index in distances.argsort()[0][-top_n:]]\n",
        "    return ', '.join(keywords)"
      ],
      "execution_count": 72,
      "outputs": []
    },
    {
      "cell_type": "code",
      "metadata": {
        "id": "COp7is8oN4WU",
        "colab": {
          "base_uri": "https://localhost:8080/",
          "height": 49,
          "referenced_widgets": [
            "2b9ee9b30c8e484f8a58b3ae39b06386",
            "61d08779845b4f38b6f0068a09e83b51",
            "5142f5c7b7174eacae52b3b6553201e9",
            "7aad4371903246699d3f9769b3d91f58",
            "1b5386ba1596453caf01147677f7ce95",
            "c3b36b4a11df422ab894599bb945c2da",
            "ca79a98299c948e9a76cec6167d77a34",
            "1318f324ec2d400f84f0632757b39305",
            "3bf349f27c5c489a88a841353ffcc907",
            "5db26cbf91734134a78d378962392945",
            "6a10399ef39b45c7914ee0d540236391"
          ]
        },
        "outputId": "8b35a7ac-4d35-4c2d-e3bf-b2adf10cdfa4"
      },
      "source": [
        "df['emb_prep'] = df.progress_apply(lambda x: kw_embeddings(x['prep_texts'], ST, x['key_count']), axis=1)"
      ],
      "execution_count": 73,
      "outputs": [
        {
          "output_type": "display_data",
          "data": {
            "application/vnd.jupyter.widget-view+json": {
              "model_id": "2b9ee9b30c8e484f8a58b3ae39b06386",
              "version_minor": 0,
              "version_major": 2
            },
            "text/plain": [
              "  0%|          | 0/4 [00:00<?, ?it/s]"
            ]
          },
          "metadata": {}
        }
      ]
    },
    {
      "cell_type": "code",
      "metadata": {
        "id": "_w81wItbN4aJ",
        "colab": {
          "base_uri": "https://localhost:8080/",
          "height": 49,
          "referenced_widgets": [
            "0e1c97a114fd46539570e62b952ef01b",
            "45de0b76cc3d42ff896e270ad600bf2f",
            "aefc5b50570243a9bba6b361e52fe4e6",
            "4a69f931fa21488aaadf1f7d541e8ea6",
            "7a125a7c6b924773b68cbbc96410cdaf",
            "e5ee2ce124c94ecfaa401c9c65787b47",
            "38f88243a8054db4b99b4ea7eae189ee",
            "ce96c0970ed04d7d9deed1b26125a162",
            "75c86f6abb744f609cc70f8ca7afcdf4",
            "f1642c3afcd843499bcd7c4276819f69",
            "da52570a4e1c471a96792ecc8a54c90c"
          ]
        },
        "outputId": "098e6440-8790-414c-aa0e-0054e9fcc162"
      },
      "source": [
        "df['emb_raw'] = df.progress_apply(lambda x: kw_embeddings(x['papers'], ST, x['key_count']), axis=1)"
      ],
      "execution_count": 74,
      "outputs": [
        {
          "output_type": "display_data",
          "data": {
            "application/vnd.jupyter.widget-view+json": {
              "model_id": "0e1c97a114fd46539570e62b952ef01b",
              "version_minor": 0,
              "version_major": 2
            },
            "text/plain": [
              "  0%|          | 0/4 [00:00<?, ?it/s]"
            ]
          },
          "metadata": {}
        }
      ]
    },
    {
      "cell_type": "markdown",
      "metadata": {
        "id": "cQ6GJ_txFxkQ"
      },
      "source": [
        "## Syntactic patterns for keywords"
      ]
    },
    {
      "cell_type": "markdown",
      "metadata": {
        "id": "4s0kHM3u6ED3"
      },
      "source": [
        "В основном ключевые слова имеют вид Adj+Noun или Noun+Noun. Давайте будем проверять такие паттерны. Напишем функцию, проверяющую, является ли строка таким паттерном или нет, чтобы отфильтровать датафрейм по паттернам"
      ]
    },
    {
      "cell_type": "code",
      "metadata": {
        "id": "ilMaTWs9F5YZ"
      },
      "source": [
        "def check_pattern(text, model):\n",
        "    docum = model(text)  # Модель у нас все еще spacy nlp\n",
        "    if len(docum) == 2:\n",
        "        if docum[1].pos_ == 'NOUN' and docum[0].pos_ in ['NOUN', 'ADJ']:\n",
        "            return 1\n",
        "    return 0"
      ],
      "execution_count": 75,
      "outputs": []
    },
    {
      "cell_type": "markdown",
      "metadata": {
        "id": "Ku7bEvQJF7x1"
      },
      "source": [
        "## Evaluation metrics"
      ]
    },
    {
      "cell_type": "markdown",
      "metadata": {
        "id": "uzhoC7Q2hgY6"
      },
      "source": [
        "Давайте представим тексты как набор токенов и их сочетаний. Тогда задачу извлечения ключевых слов можно свести к бинарной классификации: каждый элемент набора либо является, либо не является ключевым словом. Выбирая число ключевых слов неравное исходному, мы бы нарушили логику такой классификаци (см выше про фиксированное число кандидатов). Исходя из такой трансформации посчитаем метрики"
      ]
    },
    {
      "cell_type": "markdown",
      "metadata": {
        "id": "2PfDTSd8TC5F"
      },
      "source": [
        "Я решила считать метрики только по лемматизированным ключевым словам, потому что из сырых текстов извлекались разные формы одного слова (особенно в эмбеддингах)"
      ]
    },
    {
      "cell_type": "code",
      "metadata": {
        "id": "TCrb48plF-zC",
        "colab": {
          "base_uri": "https://localhost:8080/",
          "height": 177,
          "referenced_widgets": [
            "029d32ba079d4f869c1844e549e94133",
            "b46bb46c327341a8ad8151e8fb6c860e",
            "341950771ab84836be99be89e135357e",
            "0a9aead99e274a779116b7a05b2acfa9",
            "c641560ede354a95bbf6abec64ca845e",
            "4f065f3ed3b94d36bf11e272b0a853dc",
            "ba38c05868df4e4a98f04d3aab207598",
            "4d022039e7b3450ea349098ea35f85b1",
            "db34f620abde4c34839b1173f60122f6",
            "3d67d31fa2e44f3788e1df2d185ef233",
            "bdae8e9cb7c04a5ba1b5f39de8f60148",
            "33f8ce6491c0442cbdf80c368aae924b",
            "e8ca8c38d1ff4dd9bde896b9433b35db",
            "c43fd9526a6d484c923d896369ed22d9",
            "38192a1f096c402ab717dd4fc131f60c",
            "e1c0565328da41408b658db46511e17a",
            "0bfa7dac7c3f4506acd321224ed54961",
            "91d7ac5c5f374076933edc46ebda7000",
            "807683e015584ea7aacea2417ac07b08",
            "6d983effb85541b08291edb47d8baf7a",
            "c2e8646164484447a016b0d0e65a18bd",
            "d3a65d988961498294e71c86e5934162",
            "79407ac579474a449b7e2092f7517e92",
            "b2feb7551bf046b098da8e0be51be1f4",
            "81061260071443e8ae637a8a333d6466",
            "e0ea16c58de04ef0bf8a5f2717687b72",
            "7ef7016d310f4447856936780e7858a2",
            "ce72f31f9c1f4661abf939377905135a",
            "4688e52f683142a2af4d4c0252492331",
            "f505bb09aa9c401c97beffb9f660dd69",
            "7f965c4c2b1148a880043c12325f67a7",
            "b8a950616f4c4f1a9625531ab39662dd",
            "2acba59b08214ca89b2520be8b08f6b7",
            "0f9c0c1d3d304a2985742a6b06fe5540",
            "0c4e64ba4ece4734b0583abe1791dd1d",
            "f899802298d044d0bffd75df073ebce2",
            "f359a29b209a4b368b943005c8d0c289",
            "2241268359b44abfa56699cf9b23abcf",
            "e349bc39dccb4b1d9baccfc9014e80b8",
            "4d4674bf0a7644fdbbfb62f3b6a779a5",
            "60624b44b8be4918b9d27df7e3f9a32e",
            "344541a4c1e0444a975fb5d0b6fc9a74",
            "a893cc8c2df545e3a47a7907a141cbc1",
            "6d32254292384aa9a8e55bfe1a1566c7",
            "41632093c5bb4ec496ec0adbc6c4bb45",
            "ca40f18a178d43e1b2d75931155efc88",
            "2a7eaa45a365465ab863ebd6939156c7",
            "1f8d2a3f637040249eb230556a37c82b",
            "016aebd74155460b828643de719b92ea",
            "c72c13a781624f3ab5b079d12e4b9c80",
            "eeb37daa3db74f688b239ba2d8a5812f",
            "56841bc6131948e8bb1aea9555ee09ac",
            "a7eff802ac4c4e7298204df3492cba79",
            "cb101c699a9945c88a38cca4608a15ff",
            "467c9982100f46bbbefc30fb9f3133a2"
          ]
        },
        "outputId": "e88f51ec-29da-45fb-a555-e79dd88d984a"
      },
      "source": [
        "df_metrics = pd.DataFrame(columns = ['text_id' , 'extraction_algorithm', 'precision' , 'recall', 'f-score'])\n",
        "df_mask_metrics = pd.DataFrame(columns = ['text_id' , 'extraction_algorithm', 'precision' , 'recall', 'f-score'])\n",
        "\n",
        "\n",
        "for text_id in tqdm(range(df.shape[0])):\n",
        "\n",
        "    attributes = {column: df.iloc[text_id][column] \n",
        "                  for column in df if 'raw' not in column}\n",
        "    count = CountVectorizer(ngram_range=(1, 2), \n",
        "                            stop_words=stop).fit([attributes['prep_texts']])\n",
        "    df_prep_tokens = pd.DataFrame({'tokens' : count.get_feature_names()})\n",
        "\n",
        "    # Считаем матрицу классификации\n",
        "    for i in ['prep_kw', 'rake_prep', 'textrank', 'emb_prep']:\n",
        "        df_prep_tokens[i] = df_prep_tokens['tokens'].apply(lambda x: \n",
        "                                                           1 if x in attributes[i].split(', ') else 0)\n",
        "    # Считаем метрики для полных данных\n",
        "    for i in ['rake_prep', 'textrank', 'emb_prep']:\n",
        "        precision, recall, fscore, support = precision_recall_fscore_support(df_prep_tokens['prep_kw'], \n",
        "                                                                             df_prep_tokens[i], \n",
        "                                                                             average='binary', \n",
        "                                                                             zero_division=0)\n",
        "        df_metrics = df_metrics.append(pd.Series((text_id, i, precision, recall, fscore), \n",
        "                                                 index=df_metrics.columns), ignore_index=True)\n",
        "        \n",
        "    # Считаем метрики для масок\n",
        "    df_prep_tokens['mask_flag'] = df_prep_tokens.tokens.progress_apply(lambda x: check_pattern(x, model))\n",
        "    for i in ['rake_prep', 'textrank', 'emb_prep']:\n",
        "        precision, recall, fscore, support \\\n",
        "         = precision_recall_fscore_support(df_prep_tokens[df_prep_tokens['mask_flag'] == 1]['prep_kw'], \n",
        "                                           df_prep_tokens[df_prep_tokens['mask_flag'] == 1][i], \n",
        "                                           average='binary', \n",
        "                                           zero_division=0)\n",
        "        df_mask_metrics = df_mask_metrics.append(pd.Series((text_id, i, precision, recall, fscore), \n",
        "                                                 index=df_mask_metrics.columns), ignore_index=True)"
      ],
      "execution_count": 76,
      "outputs": [
        {
          "output_type": "display_data",
          "data": {
            "application/vnd.jupyter.widget-view+json": {
              "model_id": "029d32ba079d4f869c1844e549e94133",
              "version_minor": 0,
              "version_major": 2
            },
            "text/plain": [
              "  0%|          | 0/4 [00:00<?, ?it/s]"
            ]
          },
          "metadata": {}
        },
        {
          "output_type": "display_data",
          "data": {
            "application/vnd.jupyter.widget-view+json": {
              "model_id": "33f8ce6491c0442cbdf80c368aae924b",
              "version_minor": 0,
              "version_major": 2
            },
            "text/plain": [
              "  0%|          | 0/2134 [00:00<?, ?it/s]"
            ]
          },
          "metadata": {}
        },
        {
          "output_type": "display_data",
          "data": {
            "application/vnd.jupyter.widget-view+json": {
              "model_id": "79407ac579474a449b7e2092f7517e92",
              "version_minor": 0,
              "version_major": 2
            },
            "text/plain": [
              "  0%|          | 0/1994 [00:00<?, ?it/s]"
            ]
          },
          "metadata": {}
        },
        {
          "output_type": "display_data",
          "data": {
            "application/vnd.jupyter.widget-view+json": {
              "model_id": "0f9c0c1d3d304a2985742a6b06fe5540",
              "version_minor": 0,
              "version_major": 2
            },
            "text/plain": [
              "  0%|          | 0/2321 [00:00<?, ?it/s]"
            ]
          },
          "metadata": {}
        },
        {
          "output_type": "display_data",
          "data": {
            "application/vnd.jupyter.widget-view+json": {
              "model_id": "41632093c5bb4ec496ec0adbc6c4bb45",
              "version_minor": 0,
              "version_major": 2
            },
            "text/plain": [
              "  0%|          | 0/2780 [00:00<?, ?it/s]"
            ]
          },
          "metadata": {}
        }
      ]
    },
    {
      "cell_type": "code",
      "metadata": {
        "colab": {
          "base_uri": "https://localhost:8080/",
          "height": 235
        },
        "id": "eJVQ2Vkt7hiP",
        "outputId": "0e56e957-f183-469b-db03-d7124cd6e180"
      },
      "source": [
        "df_prep_tokens[df_prep_tokens.prep_kw == 1]  # Пример среза по матрице"
      ],
      "execution_count": 77,
      "outputs": [
        {
          "output_type": "execute_result",
          "data": {
            "text/html": [
              "<div>\n",
              "<style scoped>\n",
              "    .dataframe tbody tr th:only-of-type {\n",
              "        vertical-align: middle;\n",
              "    }\n",
              "\n",
              "    .dataframe tbody tr th {\n",
              "        vertical-align: top;\n",
              "    }\n",
              "\n",
              "    .dataframe thead th {\n",
              "        text-align: right;\n",
              "    }\n",
              "</style>\n",
              "<table border=\"1\" class=\"dataframe\">\n",
              "  <thead>\n",
              "    <tr style=\"text-align: right;\">\n",
              "      <th></th>\n",
              "      <th>tokens</th>\n",
              "      <th>prep_kw</th>\n",
              "      <th>rake_prep</th>\n",
              "      <th>textrank</th>\n",
              "      <th>emb_prep</th>\n",
              "      <th>mask_flag</th>\n",
              "    </tr>\n",
              "  </thead>\n",
              "  <tbody>\n",
              "    <tr>\n",
              "      <th>266</th>\n",
              "      <td>вторичный предикат</td>\n",
              "      <td>1</td>\n",
              "      <td>0</td>\n",
              "      <td>0</td>\n",
              "      <td>0</td>\n",
              "      <td>1</td>\n",
              "    </tr>\n",
              "    <tr>\n",
              "      <th>1150</th>\n",
              "      <td>обособление</td>\n",
              "      <td>1</td>\n",
              "      <td>1</td>\n",
              "      <td>1</td>\n",
              "      <td>0</td>\n",
              "      <td>0</td>\n",
              "    </tr>\n",
              "    <tr>\n",
              "      <th>1407</th>\n",
              "      <td>па</td>\n",
              "      <td>1</td>\n",
              "      <td>1</td>\n",
              "      <td>1</td>\n",
              "      <td>0</td>\n",
              "      <td>0</td>\n",
              "    </tr>\n",
              "    <tr>\n",
              "      <th>1679</th>\n",
              "      <td>предикативный атрибут</td>\n",
              "      <td>1</td>\n",
              "      <td>0</td>\n",
              "      <td>0</td>\n",
              "      <td>0</td>\n",
              "      <td>1</td>\n",
              "    </tr>\n",
              "    <tr>\n",
              "      <th>1765</th>\n",
              "      <td>прилагательное</td>\n",
              "      <td>1</td>\n",
              "      <td>0</td>\n",
              "      <td>1</td>\n",
              "      <td>0</td>\n",
              "      <td>0</td>\n",
              "    </tr>\n",
              "    <tr>\n",
              "      <th>1928</th>\n",
              "      <td>пунктуация</td>\n",
              "      <td>1</td>\n",
              "      <td>0</td>\n",
              "      <td>0</td>\n",
              "      <td>0</td>\n",
              "      <td>0</td>\n",
              "    </tr>\n",
              "  </tbody>\n",
              "</table>\n",
              "</div>"
            ],
            "text/plain": [
              "                     tokens  prep_kw  rake_prep  textrank  emb_prep  mask_flag\n",
              "266      вторичный предикат        1          0         0         0          1\n",
              "1150            обособление        1          1         1         0          0\n",
              "1407                     па        1          1         1         0          0\n",
              "1679  предикативный атрибут        1          0         0         0          1\n",
              "1765         прилагательное        1          0         1         0          0\n",
              "1928             пунктуация        1          0         0         0          0"
            ]
          },
          "metadata": {},
          "execution_count": 77
        }
      ]
    },
    {
      "cell_type": "markdown",
      "metadata": {
        "id": "JS91__kzSAwE"
      },
      "source": [
        "**Метрики по всем ключевым словам**"
      ]
    },
    {
      "cell_type": "code",
      "metadata": {
        "id": "LPC-qM1IxawX",
        "colab": {
          "base_uri": "https://localhost:8080/",
          "height": 452
        },
        "outputId": "bcb77c00-581f-40f2-a714-5eec889a7c6b"
      },
      "source": [
        "cm = sns.light_palette(\"purple\", as_cmap=True)\n",
        "pd.pivot_table(df_metrics, index=['text_id', 'extraction_algorithm']).style.background_gradient(cmap=cm)"
      ],
      "execution_count": 78,
      "outputs": [
        {
          "output_type": "execute_result",
          "data": {
            "text/html": [
              "<style  type=\"text/css\" >\n",
              "#T_3c89f7f0_3f9c_11ec_9e3e_0242ac1c0002row0_col0,#T_3c89f7f0_3f9c_11ec_9e3e_0242ac1c0002row0_col1,#T_3c89f7f0_3f9c_11ec_9e3e_0242ac1c0002row0_col2,#T_3c89f7f0_3f9c_11ec_9e3e_0242ac1c0002row2_col0,#T_3c89f7f0_3f9c_11ec_9e3e_0242ac1c0002row2_col1,#T_3c89f7f0_3f9c_11ec_9e3e_0242ac1c0002row2_col2,#T_3c89f7f0_3f9c_11ec_9e3e_0242ac1c0002row3_col0,#T_3c89f7f0_3f9c_11ec_9e3e_0242ac1c0002row3_col1,#T_3c89f7f0_3f9c_11ec_9e3e_0242ac1c0002row3_col2,#T_3c89f7f0_3f9c_11ec_9e3e_0242ac1c0002row4_col0,#T_3c89f7f0_3f9c_11ec_9e3e_0242ac1c0002row4_col1,#T_3c89f7f0_3f9c_11ec_9e3e_0242ac1c0002row4_col2,#T_3c89f7f0_3f9c_11ec_9e3e_0242ac1c0002row5_col0,#T_3c89f7f0_3f9c_11ec_9e3e_0242ac1c0002row5_col1,#T_3c89f7f0_3f9c_11ec_9e3e_0242ac1c0002row5_col2,#T_3c89f7f0_3f9c_11ec_9e3e_0242ac1c0002row6_col0,#T_3c89f7f0_3f9c_11ec_9e3e_0242ac1c0002row6_col1,#T_3c89f7f0_3f9c_11ec_9e3e_0242ac1c0002row6_col2,#T_3c89f7f0_3f9c_11ec_9e3e_0242ac1c0002row7_col0,#T_3c89f7f0_3f9c_11ec_9e3e_0242ac1c0002row7_col1,#T_3c89f7f0_3f9c_11ec_9e3e_0242ac1c0002row7_col2,#T_3c89f7f0_3f9c_11ec_9e3e_0242ac1c0002row9_col0,#T_3c89f7f0_3f9c_11ec_9e3e_0242ac1c0002row9_col1,#T_3c89f7f0_3f9c_11ec_9e3e_0242ac1c0002row9_col2{\n",
              "            background-color:  #f3f0f3;\n",
              "            color:  #000000;\n",
              "        }#T_3c89f7f0_3f9c_11ec_9e3e_0242ac1c0002row1_col0{\n",
              "            background-color:  #cfa5cf;\n",
              "            color:  #000000;\n",
              "        }#T_3c89f7f0_3f9c_11ec_9e3e_0242ac1c0002row1_col1{\n",
              "            background-color:  #d1a8d1;\n",
              "            color:  #000000;\n",
              "        }#T_3c89f7f0_3f9c_11ec_9e3e_0242ac1c0002row1_col2{\n",
              "            background-color:  #d2abd2;\n",
              "            color:  #000000;\n",
              "        }#T_3c89f7f0_3f9c_11ec_9e3e_0242ac1c0002row8_col0{\n",
              "            background-color:  #ab59ab;\n",
              "            color:  #000000;\n",
              "        }#T_3c89f7f0_3f9c_11ec_9e3e_0242ac1c0002row8_col1{\n",
              "            background-color:  #ae60ae;\n",
              "            color:  #000000;\n",
              "        }#T_3c89f7f0_3f9c_11ec_9e3e_0242ac1c0002row8_col2{\n",
              "            background-color:  #b166b1;\n",
              "            color:  #000000;\n",
              "        }#T_3c89f7f0_3f9c_11ec_9e3e_0242ac1c0002row10_col0{\n",
              "            background-color:  #8d1a8d;\n",
              "            color:  #f1f1f1;\n",
              "        }#T_3c89f7f0_3f9c_11ec_9e3e_0242ac1c0002row10_col1,#T_3c89f7f0_3f9c_11ec_9e3e_0242ac1c0002row11_col0,#T_3c89f7f0_3f9c_11ec_9e3e_0242ac1c0002row11_col2{\n",
              "            background-color:  #800080;\n",
              "            color:  #f1f1f1;\n",
              "        }#T_3c89f7f0_3f9c_11ec_9e3e_0242ac1c0002row10_col2{\n",
              "            background-color:  #a650a6;\n",
              "            color:  #000000;\n",
              "        }#T_3c89f7f0_3f9c_11ec_9e3e_0242ac1c0002row11_col1{\n",
              "            background-color:  #8b188b;\n",
              "            color:  #f1f1f1;\n",
              "        }</style><table id=\"T_3c89f7f0_3f9c_11ec_9e3e_0242ac1c0002\" class=\"dataframe\"><thead>    <tr>        <th class=\"blank\" ></th>        <th class=\"blank level0\" ></th>        <th class=\"col_heading level0 col0\" >f-score</th>        <th class=\"col_heading level0 col1\" >precision</th>        <th class=\"col_heading level0 col2\" >recall</th>    </tr>    <tr>        <th class=\"index_name level0\" >text_id</th>        <th class=\"index_name level1\" >extraction_algorithm</th>        <th class=\"blank\" ></th>        <th class=\"blank\" ></th>        <th class=\"blank\" ></th>    </tr></thead><tbody>\n",
              "                <tr>\n",
              "                        <th id=\"T_3c89f7f0_3f9c_11ec_9e3e_0242ac1c0002level0_row0\" class=\"row_heading level0 row0\" rowspan=3>0</th>\n",
              "                        <th id=\"T_3c89f7f0_3f9c_11ec_9e3e_0242ac1c0002level1_row0\" class=\"row_heading level1 row0\" >emb_prep</th>\n",
              "                        <td id=\"T_3c89f7f0_3f9c_11ec_9e3e_0242ac1c0002row0_col0\" class=\"data row0 col0\" >0.000000</td>\n",
              "                        <td id=\"T_3c89f7f0_3f9c_11ec_9e3e_0242ac1c0002row0_col1\" class=\"data row0 col1\" >0.000000</td>\n",
              "                        <td id=\"T_3c89f7f0_3f9c_11ec_9e3e_0242ac1c0002row0_col2\" class=\"data row0 col2\" >0.000000</td>\n",
              "            </tr>\n",
              "            <tr>\n",
              "                                <th id=\"T_3c89f7f0_3f9c_11ec_9e3e_0242ac1c0002level1_row1\" class=\"row_heading level1 row1\" >rake_prep</th>\n",
              "                        <td id=\"T_3c89f7f0_3f9c_11ec_9e3e_0242ac1c0002row1_col0\" class=\"data row1 col0\" >0.117647</td>\n",
              "                        <td id=\"T_3c89f7f0_3f9c_11ec_9e3e_0242ac1c0002row1_col1\" class=\"data row1 col1\" >0.100000</td>\n",
              "                        <td id=\"T_3c89f7f0_3f9c_11ec_9e3e_0242ac1c0002row1_col2\" class=\"data row1 col2\" >0.142857</td>\n",
              "            </tr>\n",
              "            <tr>\n",
              "                                <th id=\"T_3c89f7f0_3f9c_11ec_9e3e_0242ac1c0002level1_row2\" class=\"row_heading level1 row2\" >textrank</th>\n",
              "                        <td id=\"T_3c89f7f0_3f9c_11ec_9e3e_0242ac1c0002row2_col0\" class=\"data row2 col0\" >0.000000</td>\n",
              "                        <td id=\"T_3c89f7f0_3f9c_11ec_9e3e_0242ac1c0002row2_col1\" class=\"data row2 col1\" >0.000000</td>\n",
              "                        <td id=\"T_3c89f7f0_3f9c_11ec_9e3e_0242ac1c0002row2_col2\" class=\"data row2 col2\" >0.000000</td>\n",
              "            </tr>\n",
              "            <tr>\n",
              "                        <th id=\"T_3c89f7f0_3f9c_11ec_9e3e_0242ac1c0002level0_row3\" class=\"row_heading level0 row3\" rowspan=3>1</th>\n",
              "                        <th id=\"T_3c89f7f0_3f9c_11ec_9e3e_0242ac1c0002level1_row3\" class=\"row_heading level1 row3\" >emb_prep</th>\n",
              "                        <td id=\"T_3c89f7f0_3f9c_11ec_9e3e_0242ac1c0002row3_col0\" class=\"data row3 col0\" >0.000000</td>\n",
              "                        <td id=\"T_3c89f7f0_3f9c_11ec_9e3e_0242ac1c0002row3_col1\" class=\"data row3 col1\" >0.000000</td>\n",
              "                        <td id=\"T_3c89f7f0_3f9c_11ec_9e3e_0242ac1c0002row3_col2\" class=\"data row3 col2\" >0.000000</td>\n",
              "            </tr>\n",
              "            <tr>\n",
              "                                <th id=\"T_3c89f7f0_3f9c_11ec_9e3e_0242ac1c0002level1_row4\" class=\"row_heading level1 row4\" >rake_prep</th>\n",
              "                        <td id=\"T_3c89f7f0_3f9c_11ec_9e3e_0242ac1c0002row4_col0\" class=\"data row4 col0\" >0.000000</td>\n",
              "                        <td id=\"T_3c89f7f0_3f9c_11ec_9e3e_0242ac1c0002row4_col1\" class=\"data row4 col1\" >0.000000</td>\n",
              "                        <td id=\"T_3c89f7f0_3f9c_11ec_9e3e_0242ac1c0002row4_col2\" class=\"data row4 col2\" >0.000000</td>\n",
              "            </tr>\n",
              "            <tr>\n",
              "                                <th id=\"T_3c89f7f0_3f9c_11ec_9e3e_0242ac1c0002level1_row5\" class=\"row_heading level1 row5\" >textrank</th>\n",
              "                        <td id=\"T_3c89f7f0_3f9c_11ec_9e3e_0242ac1c0002row5_col0\" class=\"data row5 col0\" >0.000000</td>\n",
              "                        <td id=\"T_3c89f7f0_3f9c_11ec_9e3e_0242ac1c0002row5_col1\" class=\"data row5 col1\" >0.000000</td>\n",
              "                        <td id=\"T_3c89f7f0_3f9c_11ec_9e3e_0242ac1c0002row5_col2\" class=\"data row5 col2\" >0.000000</td>\n",
              "            </tr>\n",
              "            <tr>\n",
              "                        <th id=\"T_3c89f7f0_3f9c_11ec_9e3e_0242ac1c0002level0_row6\" class=\"row_heading level0 row6\" rowspan=3>2</th>\n",
              "                        <th id=\"T_3c89f7f0_3f9c_11ec_9e3e_0242ac1c0002level1_row6\" class=\"row_heading level1 row6\" >emb_prep</th>\n",
              "                        <td id=\"T_3c89f7f0_3f9c_11ec_9e3e_0242ac1c0002row6_col0\" class=\"data row6 col0\" >0.000000</td>\n",
              "                        <td id=\"T_3c89f7f0_3f9c_11ec_9e3e_0242ac1c0002row6_col1\" class=\"data row6 col1\" >0.000000</td>\n",
              "                        <td id=\"T_3c89f7f0_3f9c_11ec_9e3e_0242ac1c0002row6_col2\" class=\"data row6 col2\" >0.000000</td>\n",
              "            </tr>\n",
              "            <tr>\n",
              "                                <th id=\"T_3c89f7f0_3f9c_11ec_9e3e_0242ac1c0002level1_row7\" class=\"row_heading level1 row7\" >rake_prep</th>\n",
              "                        <td id=\"T_3c89f7f0_3f9c_11ec_9e3e_0242ac1c0002row7_col0\" class=\"data row7 col0\" >0.000000</td>\n",
              "                        <td id=\"T_3c89f7f0_3f9c_11ec_9e3e_0242ac1c0002row7_col1\" class=\"data row7 col1\" >0.000000</td>\n",
              "                        <td id=\"T_3c89f7f0_3f9c_11ec_9e3e_0242ac1c0002row7_col2\" class=\"data row7 col2\" >0.000000</td>\n",
              "            </tr>\n",
              "            <tr>\n",
              "                                <th id=\"T_3c89f7f0_3f9c_11ec_9e3e_0242ac1c0002level1_row8\" class=\"row_heading level1 row8\" >textrank</th>\n",
              "                        <td id=\"T_3c89f7f0_3f9c_11ec_9e3e_0242ac1c0002row8_col0\" class=\"data row8 col0\" >0.235294</td>\n",
              "                        <td id=\"T_3c89f7f0_3f9c_11ec_9e3e_0242ac1c0002row8_col1\" class=\"data row8 col1\" >0.200000</td>\n",
              "                        <td id=\"T_3c89f7f0_3f9c_11ec_9e3e_0242ac1c0002row8_col2\" class=\"data row8 col2\" >0.285714</td>\n",
              "            </tr>\n",
              "            <tr>\n",
              "                        <th id=\"T_3c89f7f0_3f9c_11ec_9e3e_0242ac1c0002level0_row9\" class=\"row_heading level0 row9\" rowspan=3>3</th>\n",
              "                        <th id=\"T_3c89f7f0_3f9c_11ec_9e3e_0242ac1c0002level1_row9\" class=\"row_heading level1 row9\" >emb_prep</th>\n",
              "                        <td id=\"T_3c89f7f0_3f9c_11ec_9e3e_0242ac1c0002row9_col0\" class=\"data row9 col0\" >0.000000</td>\n",
              "                        <td id=\"T_3c89f7f0_3f9c_11ec_9e3e_0242ac1c0002row9_col1\" class=\"data row9 col1\" >0.000000</td>\n",
              "                        <td id=\"T_3c89f7f0_3f9c_11ec_9e3e_0242ac1c0002row9_col2\" class=\"data row9 col2\" >0.000000</td>\n",
              "            </tr>\n",
              "            <tr>\n",
              "                                <th id=\"T_3c89f7f0_3f9c_11ec_9e3e_0242ac1c0002level1_row10\" class=\"row_heading level1 row10\" >rake_prep</th>\n",
              "                        <td id=\"T_3c89f7f0_3f9c_11ec_9e3e_0242ac1c0002row10_col0\" class=\"data row10 col0\" >0.333333</td>\n",
              "                        <td id=\"T_3c89f7f0_3f9c_11ec_9e3e_0242ac1c0002row10_col1\" class=\"data row10 col1\" >0.333333</td>\n",
              "                        <td id=\"T_3c89f7f0_3f9c_11ec_9e3e_0242ac1c0002row10_col2\" class=\"data row10 col2\" >0.333333</td>\n",
              "            </tr>\n",
              "            <tr>\n",
              "                                <th id=\"T_3c89f7f0_3f9c_11ec_9e3e_0242ac1c0002level1_row11\" class=\"row_heading level1 row11\" >textrank</th>\n",
              "                        <td id=\"T_3c89f7f0_3f9c_11ec_9e3e_0242ac1c0002row11_col0\" class=\"data row11 col0\" >0.375000</td>\n",
              "                        <td id=\"T_3c89f7f0_3f9c_11ec_9e3e_0242ac1c0002row11_col1\" class=\"data row11 col1\" >0.300000</td>\n",
              "                        <td id=\"T_3c89f7f0_3f9c_11ec_9e3e_0242ac1c0002row11_col2\" class=\"data row11 col2\" >0.500000</td>\n",
              "            </tr>\n",
              "    </tbody></table>"
            ],
            "text/plain": [
              "<pandas.io.formats.style.Styler at 0x7f61015bda50>"
            ]
          },
          "metadata": {},
          "execution_count": 78
        }
      ]
    },
    {
      "cell_type": "markdown",
      "metadata": {
        "id": "U3_8bHMcSHcx"
      },
      "source": [
        "**Метрики по именным группам**"
      ]
    },
    {
      "cell_type": "code",
      "metadata": {
        "colab": {
          "base_uri": "https://localhost:8080/",
          "height": 452
        },
        "id": "x2NMy5Lq-j4O",
        "outputId": "ff880b74-536f-4f48-bab9-2fb12458928d"
      },
      "source": [
        "cm = sns.light_palette(\"purple\", as_cmap=True)\n",
        "pd.pivot_table(df_mask_metrics, index=['text_id', 'extraction_algorithm']).style.background_gradient(cmap=cm)"
      ],
      "execution_count": 79,
      "outputs": [
        {
          "output_type": "execute_result",
          "data": {
            "text/html": [
              "<style  type=\"text/css\" >\n",
              "#T_3c8f5740_3f9c_11ec_9e3e_0242ac1c0002row0_col0,#T_3c8f5740_3f9c_11ec_9e3e_0242ac1c0002row0_col1,#T_3c8f5740_3f9c_11ec_9e3e_0242ac1c0002row0_col2,#T_3c8f5740_3f9c_11ec_9e3e_0242ac1c0002row1_col0,#T_3c8f5740_3f9c_11ec_9e3e_0242ac1c0002row1_col1,#T_3c8f5740_3f9c_11ec_9e3e_0242ac1c0002row1_col2,#T_3c8f5740_3f9c_11ec_9e3e_0242ac1c0002row2_col0,#T_3c8f5740_3f9c_11ec_9e3e_0242ac1c0002row2_col1,#T_3c8f5740_3f9c_11ec_9e3e_0242ac1c0002row2_col2,#T_3c8f5740_3f9c_11ec_9e3e_0242ac1c0002row3_col0,#T_3c8f5740_3f9c_11ec_9e3e_0242ac1c0002row3_col1,#T_3c8f5740_3f9c_11ec_9e3e_0242ac1c0002row3_col2,#T_3c8f5740_3f9c_11ec_9e3e_0242ac1c0002row4_col0,#T_3c8f5740_3f9c_11ec_9e3e_0242ac1c0002row4_col1,#T_3c8f5740_3f9c_11ec_9e3e_0242ac1c0002row4_col2,#T_3c8f5740_3f9c_11ec_9e3e_0242ac1c0002row5_col0,#T_3c8f5740_3f9c_11ec_9e3e_0242ac1c0002row5_col1,#T_3c8f5740_3f9c_11ec_9e3e_0242ac1c0002row5_col2,#T_3c8f5740_3f9c_11ec_9e3e_0242ac1c0002row6_col0,#T_3c8f5740_3f9c_11ec_9e3e_0242ac1c0002row6_col1,#T_3c8f5740_3f9c_11ec_9e3e_0242ac1c0002row6_col2,#T_3c8f5740_3f9c_11ec_9e3e_0242ac1c0002row7_col0,#T_3c8f5740_3f9c_11ec_9e3e_0242ac1c0002row7_col1,#T_3c8f5740_3f9c_11ec_9e3e_0242ac1c0002row7_col2,#T_3c8f5740_3f9c_11ec_9e3e_0242ac1c0002row9_col0,#T_3c8f5740_3f9c_11ec_9e3e_0242ac1c0002row9_col1,#T_3c8f5740_3f9c_11ec_9e3e_0242ac1c0002row9_col2,#T_3c8f5740_3f9c_11ec_9e3e_0242ac1c0002row10_col0,#T_3c8f5740_3f9c_11ec_9e3e_0242ac1c0002row10_col1,#T_3c8f5740_3f9c_11ec_9e3e_0242ac1c0002row10_col2,#T_3c8f5740_3f9c_11ec_9e3e_0242ac1c0002row11_col0,#T_3c8f5740_3f9c_11ec_9e3e_0242ac1c0002row11_col1,#T_3c8f5740_3f9c_11ec_9e3e_0242ac1c0002row11_col2{\n",
              "            background-color:  #f3f0f3;\n",
              "            color:  #000000;\n",
              "        }#T_3c8f5740_3f9c_11ec_9e3e_0242ac1c0002row8_col0,#T_3c8f5740_3f9c_11ec_9e3e_0242ac1c0002row8_col1,#T_3c8f5740_3f9c_11ec_9e3e_0242ac1c0002row8_col2{\n",
              "            background-color:  #800080;\n",
              "            color:  #f1f1f1;\n",
              "        }</style><table id=\"T_3c8f5740_3f9c_11ec_9e3e_0242ac1c0002\" class=\"dataframe\"><thead>    <tr>        <th class=\"blank\" ></th>        <th class=\"blank level0\" ></th>        <th class=\"col_heading level0 col0\" >f-score</th>        <th class=\"col_heading level0 col1\" >precision</th>        <th class=\"col_heading level0 col2\" >recall</th>    </tr>    <tr>        <th class=\"index_name level0\" >text_id</th>        <th class=\"index_name level1\" >extraction_algorithm</th>        <th class=\"blank\" ></th>        <th class=\"blank\" ></th>        <th class=\"blank\" ></th>    </tr></thead><tbody>\n",
              "                <tr>\n",
              "                        <th id=\"T_3c8f5740_3f9c_11ec_9e3e_0242ac1c0002level0_row0\" class=\"row_heading level0 row0\" rowspan=3>0</th>\n",
              "                        <th id=\"T_3c8f5740_3f9c_11ec_9e3e_0242ac1c0002level1_row0\" class=\"row_heading level1 row0\" >emb_prep</th>\n",
              "                        <td id=\"T_3c8f5740_3f9c_11ec_9e3e_0242ac1c0002row0_col0\" class=\"data row0 col0\" >0.000000</td>\n",
              "                        <td id=\"T_3c8f5740_3f9c_11ec_9e3e_0242ac1c0002row0_col1\" class=\"data row0 col1\" >0.000000</td>\n",
              "                        <td id=\"T_3c8f5740_3f9c_11ec_9e3e_0242ac1c0002row0_col2\" class=\"data row0 col2\" >0.000000</td>\n",
              "            </tr>\n",
              "            <tr>\n",
              "                                <th id=\"T_3c8f5740_3f9c_11ec_9e3e_0242ac1c0002level1_row1\" class=\"row_heading level1 row1\" >rake_prep</th>\n",
              "                        <td id=\"T_3c8f5740_3f9c_11ec_9e3e_0242ac1c0002row1_col0\" class=\"data row1 col0\" >0.000000</td>\n",
              "                        <td id=\"T_3c8f5740_3f9c_11ec_9e3e_0242ac1c0002row1_col1\" class=\"data row1 col1\" >0.000000</td>\n",
              "                        <td id=\"T_3c8f5740_3f9c_11ec_9e3e_0242ac1c0002row1_col2\" class=\"data row1 col2\" >0.000000</td>\n",
              "            </tr>\n",
              "            <tr>\n",
              "                                <th id=\"T_3c8f5740_3f9c_11ec_9e3e_0242ac1c0002level1_row2\" class=\"row_heading level1 row2\" >textrank</th>\n",
              "                        <td id=\"T_3c8f5740_3f9c_11ec_9e3e_0242ac1c0002row2_col0\" class=\"data row2 col0\" >0.000000</td>\n",
              "                        <td id=\"T_3c8f5740_3f9c_11ec_9e3e_0242ac1c0002row2_col1\" class=\"data row2 col1\" >0.000000</td>\n",
              "                        <td id=\"T_3c8f5740_3f9c_11ec_9e3e_0242ac1c0002row2_col2\" class=\"data row2 col2\" >0.000000</td>\n",
              "            </tr>\n",
              "            <tr>\n",
              "                        <th id=\"T_3c8f5740_3f9c_11ec_9e3e_0242ac1c0002level0_row3\" class=\"row_heading level0 row3\" rowspan=3>1</th>\n",
              "                        <th id=\"T_3c8f5740_3f9c_11ec_9e3e_0242ac1c0002level1_row3\" class=\"row_heading level1 row3\" >emb_prep</th>\n",
              "                        <td id=\"T_3c8f5740_3f9c_11ec_9e3e_0242ac1c0002row3_col0\" class=\"data row3 col0\" >0.000000</td>\n",
              "                        <td id=\"T_3c8f5740_3f9c_11ec_9e3e_0242ac1c0002row3_col1\" class=\"data row3 col1\" >0.000000</td>\n",
              "                        <td id=\"T_3c8f5740_3f9c_11ec_9e3e_0242ac1c0002row3_col2\" class=\"data row3 col2\" >0.000000</td>\n",
              "            </tr>\n",
              "            <tr>\n",
              "                                <th id=\"T_3c8f5740_3f9c_11ec_9e3e_0242ac1c0002level1_row4\" class=\"row_heading level1 row4\" >rake_prep</th>\n",
              "                        <td id=\"T_3c8f5740_3f9c_11ec_9e3e_0242ac1c0002row4_col0\" class=\"data row4 col0\" >0.000000</td>\n",
              "                        <td id=\"T_3c8f5740_3f9c_11ec_9e3e_0242ac1c0002row4_col1\" class=\"data row4 col1\" >0.000000</td>\n",
              "                        <td id=\"T_3c8f5740_3f9c_11ec_9e3e_0242ac1c0002row4_col2\" class=\"data row4 col2\" >0.000000</td>\n",
              "            </tr>\n",
              "            <tr>\n",
              "                                <th id=\"T_3c8f5740_3f9c_11ec_9e3e_0242ac1c0002level1_row5\" class=\"row_heading level1 row5\" >textrank</th>\n",
              "                        <td id=\"T_3c8f5740_3f9c_11ec_9e3e_0242ac1c0002row5_col0\" class=\"data row5 col0\" >0.000000</td>\n",
              "                        <td id=\"T_3c8f5740_3f9c_11ec_9e3e_0242ac1c0002row5_col1\" class=\"data row5 col1\" >0.000000</td>\n",
              "                        <td id=\"T_3c8f5740_3f9c_11ec_9e3e_0242ac1c0002row5_col2\" class=\"data row5 col2\" >0.000000</td>\n",
              "            </tr>\n",
              "            <tr>\n",
              "                        <th id=\"T_3c8f5740_3f9c_11ec_9e3e_0242ac1c0002level0_row6\" class=\"row_heading level0 row6\" rowspan=3>2</th>\n",
              "                        <th id=\"T_3c8f5740_3f9c_11ec_9e3e_0242ac1c0002level1_row6\" class=\"row_heading level1 row6\" >emb_prep</th>\n",
              "                        <td id=\"T_3c8f5740_3f9c_11ec_9e3e_0242ac1c0002row6_col0\" class=\"data row6 col0\" >0.000000</td>\n",
              "                        <td id=\"T_3c8f5740_3f9c_11ec_9e3e_0242ac1c0002row6_col1\" class=\"data row6 col1\" >0.000000</td>\n",
              "                        <td id=\"T_3c8f5740_3f9c_11ec_9e3e_0242ac1c0002row6_col2\" class=\"data row6 col2\" >0.000000</td>\n",
              "            </tr>\n",
              "            <tr>\n",
              "                                <th id=\"T_3c8f5740_3f9c_11ec_9e3e_0242ac1c0002level1_row7\" class=\"row_heading level1 row7\" >rake_prep</th>\n",
              "                        <td id=\"T_3c8f5740_3f9c_11ec_9e3e_0242ac1c0002row7_col0\" class=\"data row7 col0\" >0.000000</td>\n",
              "                        <td id=\"T_3c8f5740_3f9c_11ec_9e3e_0242ac1c0002row7_col1\" class=\"data row7 col1\" >0.000000</td>\n",
              "                        <td id=\"T_3c8f5740_3f9c_11ec_9e3e_0242ac1c0002row7_col2\" class=\"data row7 col2\" >0.000000</td>\n",
              "            </tr>\n",
              "            <tr>\n",
              "                                <th id=\"T_3c8f5740_3f9c_11ec_9e3e_0242ac1c0002level1_row8\" class=\"row_heading level1 row8\" >textrank</th>\n",
              "                        <td id=\"T_3c8f5740_3f9c_11ec_9e3e_0242ac1c0002row8_col0\" class=\"data row8 col0\" >0.666667</td>\n",
              "                        <td id=\"T_3c8f5740_3f9c_11ec_9e3e_0242ac1c0002row8_col1\" class=\"data row8 col1\" >1.000000</td>\n",
              "                        <td id=\"T_3c8f5740_3f9c_11ec_9e3e_0242ac1c0002row8_col2\" class=\"data row8 col2\" >0.500000</td>\n",
              "            </tr>\n",
              "            <tr>\n",
              "                        <th id=\"T_3c8f5740_3f9c_11ec_9e3e_0242ac1c0002level0_row9\" class=\"row_heading level0 row9\" rowspan=3>3</th>\n",
              "                        <th id=\"T_3c8f5740_3f9c_11ec_9e3e_0242ac1c0002level1_row9\" class=\"row_heading level1 row9\" >emb_prep</th>\n",
              "                        <td id=\"T_3c8f5740_3f9c_11ec_9e3e_0242ac1c0002row9_col0\" class=\"data row9 col0\" >0.000000</td>\n",
              "                        <td id=\"T_3c8f5740_3f9c_11ec_9e3e_0242ac1c0002row9_col1\" class=\"data row9 col1\" >0.000000</td>\n",
              "                        <td id=\"T_3c8f5740_3f9c_11ec_9e3e_0242ac1c0002row9_col2\" class=\"data row9 col2\" >0.000000</td>\n",
              "            </tr>\n",
              "            <tr>\n",
              "                                <th id=\"T_3c8f5740_3f9c_11ec_9e3e_0242ac1c0002level1_row10\" class=\"row_heading level1 row10\" >rake_prep</th>\n",
              "                        <td id=\"T_3c8f5740_3f9c_11ec_9e3e_0242ac1c0002row10_col0\" class=\"data row10 col0\" >0.000000</td>\n",
              "                        <td id=\"T_3c8f5740_3f9c_11ec_9e3e_0242ac1c0002row10_col1\" class=\"data row10 col1\" >0.000000</td>\n",
              "                        <td id=\"T_3c8f5740_3f9c_11ec_9e3e_0242ac1c0002row10_col2\" class=\"data row10 col2\" >0.000000</td>\n",
              "            </tr>\n",
              "            <tr>\n",
              "                                <th id=\"T_3c8f5740_3f9c_11ec_9e3e_0242ac1c0002level1_row11\" class=\"row_heading level1 row11\" >textrank</th>\n",
              "                        <td id=\"T_3c8f5740_3f9c_11ec_9e3e_0242ac1c0002row11_col0\" class=\"data row11 col0\" >0.000000</td>\n",
              "                        <td id=\"T_3c8f5740_3f9c_11ec_9e3e_0242ac1c0002row11_col1\" class=\"data row11 col1\" >0.000000</td>\n",
              "                        <td id=\"T_3c8f5740_3f9c_11ec_9e3e_0242ac1c0002row11_col2\" class=\"data row11 col2\" >0.000000</td>\n",
              "            </tr>\n",
              "    </tbody></table>"
            ],
            "text/plain": [
              "<pandas.io.formats.style.Styler at 0x7f61015681d0>"
            ]
          },
          "metadata": {},
          "execution_count": 79
        }
      ]
    },
    {
      "cell_type": "markdown",
      "metadata": {
        "id": "BStLDbZfF_Sa"
      },
      "source": [
        "## Final discussion"
      ]
    },
    {
      "cell_type": "markdown",
      "metadata": {
        "id": "V_T4IaUWOtok"
      },
      "source": [
        "1. В целом все работает очень плохо, а для масок еще хуже. Посмотрим на то, что извлеклось для нулевого текста, где вообще ничего не совпало"
      ]
    },
    {
      "cell_type": "code",
      "metadata": {
        "colab": {
          "base_uri": "https://localhost:8080/",
          "height": 54
        },
        "id": "Au5JQi_0PKdJ",
        "outputId": "492522ef-6d80-4df7-b597-c8a7052cebac"
      },
      "source": [
        "df.key_words.loc[1]"
      ],
      "execution_count": 86,
      "outputs": [
        {
          "output_type": "execute_result",
          "data": {
            "application/vnd.google.colaboratory.intrinsic+json": {
              "type": "string"
            },
            "text/plain": [
              "'глагол, св, структура ситуации, широкий контекст, накопитель эффекта, предел ситуации, градационный глагол, делимитативный, семельфактивный, способ действия, сд'"
            ]
          },
          "metadata": {},
          "execution_count": 86
        }
      ]
    },
    {
      "cell_type": "code",
      "metadata": {
        "colab": {
          "base_uri": "https://localhost:8080/",
          "height": 37
        },
        "id": "MG6uK_-TO9Pm",
        "outputId": "969e8df9-e756-4038-94fd-1d6509951405"
      },
      "source": [
        "df.rake_prep.loc[1]"
      ],
      "execution_count": 87,
      "outputs": [
        {
          "output_type": "execute_result",
          "data": {
            "application/vnd.google.colaboratory.intrinsic+json": {
              "type": "string"
            },
            "text/plain": [
              "'глагол св, ситуация, случай, запятые, это'"
            ]
          },
          "metadata": {},
          "execution_count": 87
        }
      ]
    },
    {
      "cell_type": "code",
      "metadata": {
        "colab": {
          "base_uri": "https://localhost:8080/",
          "height": 37
        },
        "id": "BT4Sv0SrPSQx",
        "outputId": "834d1b19-5ac6-4f57-d9f2-d0e088a5155e"
      },
      "source": [
        "df.textrank.loc[1]"
      ],
      "execution_count": 88,
      "outputs": [
        {
          "output_type": "execute_result",
          "data": {
            "application/vnd.google.colaboratory.intrinsic+json": {
              "type": "string"
            },
            "text/plain": [
              "'глаголы, ситуация, глагол оксана, предела, возможность, также, данном, данный, данному, данного'"
            ]
          },
          "metadata": {},
          "execution_count": 88
        }
      ]
    },
    {
      "cell_type": "code",
      "metadata": {
        "colab": {
          "base_uri": "https://localhost:8080/",
          "height": 54
        },
        "id": "AO2o1uxtP1cV",
        "outputId": "010bb6a4-3f8d-437b-991b-91534b471ad6"
      },
      "source": [
        "df.emb_prep.loc[1]"
      ],
      "execution_count": 89,
      "outputs": [
        {
          "output_type": "execute_result",
          "data": {
            "application/vnd.google.colaboratory.intrinsic+json": {
              "type": "string"
            },
            "text/plain": [
              "'контекст возможный, ситуация глагол, глагол возможный, случай возможный, условие объект, ситуация выразить, ситуация объект, ситуация предполагать, концептуализует ситуация, ситуация возможность, ситуация абсолютный'"
            ]
          },
          "metadata": {},
          "execution_count": 89
        }
      ]
    },
    {
      "cell_type": "markdown",
      "metadata": {
        "id": "IsOsFH5fTteU"
      },
      "source": [
        "То есть в принципе извлекаются токены *глагол, св, ситуация* но не в тех комбинациях, в которых они есть в ключевых словах"
      ]
    },
    {
      "cell_type": "markdown",
      "metadata": {
        "id": "RI-RVn3GGCnw"
      },
      "source": [
        "\n",
        "\n",
        "2. Судя по всему, существуют более адекватные метрики для извлечения ключевых слов и в датасетах, которые сделаны для этой задачи помимо наличия слова в списке учитывается \"уверенность\" в этом слове, то есть его ранг. Про метрики я читала [тут](https://medium.com/gumgum-tech/exploring-different-keyword-extractors-evaluation-metrics-and-strategies-ef874d336773)\n",
        "\n",
        "3. Надо как-то получше предобработать данные, возможно, попробовать стемминг, потому что в одной из статей писали об обособлении и смысл выражался разными частями речи (обособлять, обособление, обособленный)\n",
        "\n",
        "4. Может, нужно иначе выделять ключевые слова руами. Больше смотреть не на смысл, а на частотность и чаще выделять однословные единицы. \n",
        "\n",
        "5. Можно было бы сделать кластеризацию эмбеддингов всех кандидатов на ключевые слова и искать близость не отдельных токенов к тексту, а центроидов или просто средних векторов кластеров. А потом брать слово, которое ближе всего к вектору, репрезентующему кластер\n",
        "\n",
        "6. Вообще эмбеддинги тут хороши, потому что часто авторы статьи выносят в ключевые слова какие-то обобщающие понятия, например, у статьи в журнале может быть тег NLP, но при этом она будет только о NER и сам токен NLP не встретится ни разу. Поэтому, возможно, для метрики качества выделения ключевых слов тоже можно пробовать косинусное расстояние, если мы хотим понять, способен ли наш алгоритм выделять ключевые смыслы (которые по сути упрощаются до ключевых слов). У меня в одной из статей было оригинальное ключевое слово \"русский язык\", хотя явно в тексте оно не упоминалось."
      ]
    }
  ]
}
